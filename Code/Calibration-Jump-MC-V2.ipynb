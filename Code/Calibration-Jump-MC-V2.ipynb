{
 "cells": [
  {
   "cell_type": "code",
   "execution_count": 60,
   "metadata": {},
   "outputs": [],
   "source": [
    "from copy import copy\n",
    "import numpy as np\n",
    "import pandas as pd\n",
    "import matplotlib.pyplot as plt\n",
    "from scipy.optimize import Bounds\n",
    "from calibration.solver_calibration import Calibration\n",
    "\n",
    "from models.jump_vasicek import JumpVasicek\n",
    "from models.jump_cir import JumpCIR"
   ]
  },
  {
   "cell_type": "code",
   "execution_count": 61,
   "metadata": {},
   "outputs": [],
   "source": [
    "initial_model_params = {\n",
    "    \"kappa\": 0.05,\n",
    "    \"mu_r\": 0.01,\n",
    "    \"sigma\": 0.01,\n",
    "    \"mu\": 0,\n",
    "    \"gamma\": 0.01,\n",
    "    \"h\": 10\n",
    "}"
   ]
  },
  {
   "cell_type": "code",
   "execution_count": 63,
   "metadata": {},
   "outputs": [],
   "source": [
    "def get_yield_curve(day=1):\n",
    "    yield_curve_full = pd.read_csv(\"data/yield_curve02132021.csv\")\n",
    "    yield_curve_list = []\n",
    "    for i in range(day):    \n",
    "        yield_curve = pd.DataFrame(yield_curve_full.iloc[i, 1:]/100).astype(float)\n",
    "        yield_curve[\"Maturity\"] = list(range(1, len(yield_curve) + 1))\n",
    "        yield_curve.columns = [\"Yield\", \"Maturity\"]\n",
    "        yield_curve[\"Cum. Yield\"] = yield_curve[\"Yield\"] * yield_curve[\"Maturity\"]\n",
    "        yield_curve[\"Price\"] = np.exp(-yield_curve[\"Cum. Yield\"])\n",
    "        Ts = yield_curve[\"Maturity\"].values\n",
    "        yield_curve_list.append(yield_curve[\"Price\"])\n",
    "    return pd.concat(yield_curve_list, axis=1).values.T, Ts"
   ]
  },
  {
   "cell_type": "code",
   "execution_count": 64,
   "metadata": {},
   "outputs": [],
   "source": [
    "def calibrate(model_class, day=1, h=10):\n",
    "    model_params = copy(initial_model_params)\n",
    "    model_params[\"h\"] = h\n",
    "    prices, Ts = get_yield_curve(day)\n",
    "    model = model_class(model_params)\n",
    "    optimize_args = (\"kappa\", \"mu_r\", \"sigma\", \"gamma\")\n",
    "    bounds = Bounds([0.001, 0.001, 0.01, 0.01], [1, 0.2, 0.2, 0.2])\n",
    "    if __name__ == \"__main__\":\n",
    "        calibrator = Calibration(\n",
    "            model_class=model_class, n=100, m=26, r0=0.001,\n",
    "            model_params=model_params, optimize_args=optimize_args)\n",
    "        return calibrator.calibrate(\n",
    "            initial_values=(model_params[\"kappa\"], model_params[\"mu_r\"], model_params[\"sigma\"], model_params[\"gamma\"]),\n",
    "            Ts=Ts,\n",
    "            prices=prices,\n",
    "            bounds=bounds\n",
    "        )"
   ]
  },
  {
   "cell_type": "code",
   "execution_count": null,
   "metadata": {},
   "outputs": [],
   "source": [
    "optimal_vas_2_1   = calibrate(JumpVasicek, day=2, h=1)\n",
    "print(optimal_vas_2_1)"
   ]
  },
  {
   "cell_type": "code",
   "execution_count": null,
   "metadata": {},
   "outputs": [],
   "source": [
    "optimal_vas_3_1   = calibrate(JumpVasicek, day=3, h=1)\n",
    "print(optimal_vas_3_1)"
   ]
  },
  {
   "cell_type": "code",
   "execution_count": null,
   "metadata": {},
   "outputs": [],
   "source": [
    "optimal_vas_2_10   = calibrate(JumpVasicek, day=2, h=10)\n",
    "print(optimal_vas_2_10)"
   ]
  },
  {
   "cell_type": "code",
   "execution_count": null,
   "metadata": {},
   "outputs": [],
   "source": [
    "optimal_vas_3_10   = calibrate(JumpVasicek, day=3, h=10)\n",
    "print(optimal_vas_2_10)"
   ]
  },
  {
   "cell_type": "code",
   "execution_count": 9,
   "metadata": {},
   "outputs": [],
   "source": [
    "jump_cir = JumpCIR(inital_model_params)\n",
    "optimize_args = (\"kappa\", \"mu_r\", \"sigma\", \"gamma\")\n",
    "bounds = Bounds([0.001, 0.001, 0.01, 0.01], [1, 0.2, 0.2, 0.2])"
   ]
  },
  {
   "cell_type": "code",
   "execution_count": null,
   "metadata": {},
   "outputs": [],
   "source": [
    "if __name__ == \"__main__\":\n",
    "    calibrator = Calibration(\n",
    "        model_class=JumpCIR, n=100, m=26, r0=0.001,\n",
    "        model_params=inital_model_params, optimize_args=optimize_args)\n",
    "    optimal_cir = calibrator.calibrate(\n",
    "        initial_values=(inital_model_params[\"kappa\"], inital_model_params[\"mu_r\"], inital_model_params[\"sigma\"], inital_model_params[\"gamma\"]),\n",
    "        Ts=Ts,\n",
    "        prices=prices,\n",
    "        bounds=bounds\n",
    "    )"
   ]
  },
  {
   "cell_type": "code",
   "execution_count": null,
   "metadata": {},
   "outputs": [],
   "source": [
    "optimal_cir"
   ]
  },
  {
   "cell_type": "code",
   "execution_count": null,
   "metadata": {},
   "outputs": [],
   "source": []
  }
 ],
 "metadata": {
  "kernelspec": {
   "display_name": "Python 3",
   "language": "python",
   "name": "python3"
  },
  "language_info": {
   "codemirror_mode": {
    "name": "ipython",
    "version": 3
   },
   "file_extension": ".py",
   "mimetype": "text/x-python",
   "name": "python",
   "nbconvert_exporter": "python",
   "pygments_lexer": "ipython3",
   "version": "3.8.2"
  }
 },
 "nbformat": 4,
 "nbformat_minor": 4
}
