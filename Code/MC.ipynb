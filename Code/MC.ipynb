{
 "cells": [
  {
   "cell_type": "code",
   "execution_count": 71,
   "metadata": {},
   "outputs": [],
   "source": [
    "import pandas as pd\n",
    "import numpy as np\n",
    "import scipy.stats\n",
    "import matplotlib.pyplot as plt"
   ]
  },
  {
   "cell_type": "code",
   "execution_count": 72,
   "metadata": {},
   "outputs": [],
   "source": [
    "# Parameters assumed by paper\n",
    "\n",
    "paper_params = {\n",
    "    \"r\": 0.05,\n",
    "    \"a\": 0.5,\n",
    "    \"b\": 0.05,\n",
    "    \"theta\": 0.025,\n",
    "    \"sigma\": 0.08,\n",
    "    \"lambda\": -0.5,\n",
    "    \"gamma\": 0.01,\n",
    "    \"h\": 10,\n",
    "    \"mu\": 0\n",
    "}\n",
    "\n",
    "t = 0.05\n",
    "T = 20\n",
    "m = 365\n",
    "n = 1000\n",
    "delta_t = (T-t)/m"
   ]
  },
  {
   "cell_type": "code",
   "execution_count": 73,
   "metadata": {},
   "outputs": [],
   "source": [
    "def increment_vas(rj, t, T, m, params):\n",
    "    \"\"\"\n",
    "    Arguments:\n",
    "    rj, float: rate from time step j\n",
    "    params, dict: CIR model parameters\n",
    "    nj, float: jth draw from N(0,1)\n",
    "    pj, float: jth draw from Poisson(h*delta_t)\n",
    "    Jj, float: jth draw from N(mu, lambda)\n",
    "    Returns:\n",
    "    rj1, float: rate at time step j+1 \n",
    "    \"\"\"\n",
    "    delta_t = (T-t)/m\n",
    "    theta = params[\"theta\"]\n",
    "    sigma = params[\"sigma\"]\n",
    "    a = params[\"a\"]\n",
    "    lambda_ = params[\"lambda\"]\n",
    "    h = params[\"h\"]\n",
    "    gamma = params[\"gamma\"]\n",
    "    mu = params[\"mu\"]\n",
    "    \n",
    "    time_step  = (theta - a*rj - lambda_*sigma)*delta_t\n",
    "    stoch_step = sigma*np.random.normal()*np.sqrt(delta_t)\n",
    "    jump_step  = np.random.normal(mu, gamma)*np.random.poisson(h*delta_t)\n",
    "    \n",
    "    rj1 = rj + time_step + stoch_step + jump_step\n",
    "#     rj1 = rj + time_step + stoch_step\n",
    "    return rj1"
   ]
  },
  {
   "cell_type": "code",
   "execution_count": 74,
   "metadata": {},
   "outputs": [],
   "source": [
    "def increment_cir(rj, t, T, m, params):\n",
    "    \"\"\"\n",
    "    Arguments:\n",
    "    rj, float: rate from time step j\n",
    "    params, dict: CIR model parameters\n",
    "    nj, float: jth draw from N(0,1)\n",
    "    pj, float: jth draw from Poisson(h*delta_t)\n",
    "    Jj, float: jth draw from N(mu, lambda)\n",
    "    Returns:\n",
    "    rj1, float: rate at time step j+1 \n",
    "    \"\"\"\n",
    "    delta_t = (T-t)/m\n",
    "    theta = params[\"theta\"]\n",
    "    sigma = params[\"sigma\"]\n",
    "    a = params[\"a\"]\n",
    "    lambda_ = params[\"lambda\"]\n",
    "    h = params[\"h\"]\n",
    "    gamma = params[\"gamma\"]\n",
    "    mu = params[\"mu\"]\n",
    "    \n",
    "    time_step  = (theta - a*rj - lambda_*sigma*np.sqrt(rj))*delta_t\n",
    "    stoch_step = sigma*np.sqrt(rj)*np.random.normal()*np.sqrt(delta_t)\n",
    "    jump_step  = np.random.normal(mu, gamma)*np.random.poisson(h*delta_t)\n",
    "    \n",
    "    rj1 = rj + time_step + stoch_step + jump_step\n",
    "#     rj1 = rj + time_step + stoch_step\n",
    "    return max(rj1, 0)"
   ]
  },
  {
   "cell_type": "code",
   "execution_count": 75,
   "metadata": {},
   "outputs": [],
   "source": [
    "def simulate_path(t, T, m, model_func, params):\n",
    "    \"\"\"\n",
    "    Arguments:\n",
    "    t, float: starting time period\n",
    "    T, float: maturity\n",
    "    m, float: number of steps\n",
    "    params, dict: model parameters\n",
    "    \"\"\"\n",
    "    r = [params[\"r\"]]\n",
    "    ts = [t]\n",
    "    h = params[\"h\"]\n",
    "    gamma = params[\"gamma\"]\n",
    "    mu = params[\"mu\"]\n",
    "    delta_t = (T-t)/m\n",
    "    for j in range(m):\n",
    "        r.append(model_func(r[j], t, T, m, params))\n",
    "        ts.append(ts[j] + delta_t)\n",
    "    prices = np.exp(-np.cumsum(np.multiply(r[1:], delta_t)))\n",
    "    prices = np.insert(prices, 0, np.exp(-t*params[\"r\"]))\n",
    "    return prices"
   ]
  },
  {
   "cell_type": "code",
   "execution_count": 76,
   "metadata": {},
   "outputs": [],
   "source": [
    "def simulate_price(t, T, m, n, model_func, params):\n",
    "    \"\"\"\n",
    "    Arguments:\n",
    "    t, float: starting time period\n",
    "    T, float: maturity\n",
    "    m, float: number of steps\n",
    "    params, dict: model parameters\n",
    "    \"\"\"\n",
    "    prices = np.empty((n, m+1), dtype=np.float)\n",
    "    for i in range(n):\n",
    "        prices[i, :] = simulate_path(t, T, m, model_func, params)\n",
    "    return np.mean(prices, axis=0)"
   ]
  },
  {
   "cell_type": "code",
   "execution_count": 77,
   "metadata": {},
   "outputs": [],
   "source": [
    "def plot_price_curve(t, T, m, n, model_func, params):\n",
    "    \"\"\"\n",
    "    Arguments:\n",
    "    t, float: starting time period\n",
    "    T, float: maturity\n",
    "    m, float: number of steps\n",
    "    params, dict: model parameters\n",
    "    \"\"\"\n",
    "    delta_t = (T-t)/m\n",
    "    Prices = np.empty(m, dtype=np.float)\n",
    "    Prices = simulate_price(t, T, m, n, model_func, params)\n",
    "    pd.Series(Prices, index=np.linspace(t, T, m+1)).plot()\n",
    "    return Prices"
   ]
  },
  {
   "cell_type": "code",
   "execution_count": 78,
   "metadata": {},
   "outputs": [
    {
     "data": {
      "image/png": "[encoded data removed]",
      "text/plain": [
       "<Figure size 432x288 with 1 Axes>"
      ]
     },
     "metadata": {
      "needs_background": "light"
     },
     "output_type": "display_data"
    }
   ],
   "source": [
    "# np.random.seed(929469047)\n",
    "Prices_cir = plot_price_curve(t, T, m, n, increment_cir, paper_params)"
   ]
  },
  {
   "cell_type": "code",
   "execution_count": 79,
   "metadata": {},
   "outputs": [
    {
     "data": {
      "image/png": "[encoded data removed]",
      "text/plain": [
       "<Figure size 432x288 with 1 Axes>"
      ]
     },
     "metadata": {
      "needs_background": "light"
     },
     "output_type": "display_data"
    }
   ],
   "source": [
    "# np.random.seed(929469047)\n",
    "Prices_vas = plot_price_curve(t, T, m, n, increment_vas, paper_params)"
   ]
  }
 ],
 "metadata": {
  "kernelspec": {
   "display_name": "Python 3.8.2 64-bit ('mfe': conda)",
   "language": "python",
   "name": "python38264bitmfecondae74c907fdc724f2f985b4a3dcacc3183"
  },
  "language_info": {
   "codemirror_mode": {
    "name": "ipython",
    "version": 3
   },
   "file_extension": ".py",
   "mimetype": "text/x-python",
   "name": "python",
   "nbconvert_exporter": "python",
   "pygments_lexer": "ipython3",
   "version": "3.8.2"
  }
 },
 "nbformat": 4,
 "nbformat_minor": 4
}
