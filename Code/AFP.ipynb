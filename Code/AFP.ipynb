{
 "cells": [
  {
   "cell_type": "markdown",
   "metadata": {},
   "source": [
    "Replicate paper"
   ]
  },
  {
   "cell_type": "code",
   "execution_count": 58,
   "metadata": {},
   "outputs": [],
   "source": [
    "import pandas as pd\n",
    "import numpy as np\n",
    "import matplotlib.pyplot as plt"
   ]
  },
  {
   "cell_type": "code",
   "execution_count": 59,
   "metadata": {},
   "outputs": [],
   "source": [
    "class SpotRateModel:\n",
    "    def __init__(self,\n",
    "                 r0,\n",
    "                 a,\n",
    "                 b,\n",
    "                 theta,\n",
    "                 sigma,\n",
    "                 lamda,\n",
    "                 gamma,\n",
    "                 mu,\n",
    "                 h,\n",
    "                 t,\n",
    "                 T,\n",
    "                 m,\n",
    "                 model_name):\n",
    "        self.r0 = r0\n",
    "        self.a = a*t\n",
    "        self.b = b\n",
    "        self.theta = theta*t\n",
    "        self.sigma = sigma*t\n",
    "        self.lamda = lamda*t\n",
    "        self.gamma = gamma\n",
    "        self.mu = mu\n",
    "        self.h = h\n",
    "        self.t = t\n",
    "        self.T = T\n",
    "        self.m = m\n",
    "        self.delta_t = (T-t)/m\n",
    "        self.model_name = model_name\n",
    "        \n",
    "    def spot_rates(self):\n",
    "        spot_rates = []\n",
    "        for i in range(self.m+1):\n",
    "            if i==0:\n",
    "                spot_rates.append(self.r0)\n",
    "            else:\n",
    "                prev_spot_rate = spot_rates[i-1]\n",
    "                if self.model_name == \"vasicek\":\n",
    "                    spot_rates.append(prev_spot_rate + (self.theta - self.a*prev_spot_rate*self.t - self.lamda*self.sigma)*self.delta_t + self.sigma*np.random.normal()*np.sqrt(self.delta_t) + np.random.normal(self.mu, self.gamma)*np.random.poisson(self.h*self.delta_t))\n",
    "                if self.model_name == \"cir\":\n",
    "                    spot_rates.append(prev_spot_rate + (self.theta - self.a*prev_spot_rate - self.lamda*self.sigma*np.sqrt(prev_spot_rate*self.t))*self.delta_t + self.sigma*np.sqrt(prev_spot_rate*self.t)*np.random.normal()*np.sqrt(self.delta_t) + np.random.normal(self.mu, self.gamma)*np.random.poisson(self.h*self.delta_t))\n",
    "        \n",
    "        return pd.DataFrame(spot_rates, index=np.arange(self.m+1), columns=[\"SPOT_RATE\"])\n",
    "            \n",
    "\n",
    "            "
   ]
  },
  {
   "cell_type": "code",
   "execution_count": 71,
   "metadata": {},
   "outputs": [],
   "source": [
    "spot_rate_model = SpotRateModel(r0=0.05,\n",
    "                 a=0.5,\n",
    "                 b=0.05,\n",
    "                 theta=0.025,\n",
    "                 sigma=0.08,\n",
    "                 lamda=-0.5,\n",
    "                 gamma=0.01,\n",
    "                 mu=0,\n",
    "                 h=10,\n",
    "                 t=0.05,\n",
    "                 T=20,\n",
    "                 m=365,\n",
    "                 model_name='vasicek')"
   ]
  },
  {
   "cell_type": "code",
   "execution_count": 102,
   "metadata": {},
   "outputs": [],
   "source": [
    "class MonteCarloSimulation:\n",
    "    def __init__(self, \n",
    "                 num_simulations,\n",
    "                 spot_rate_model,\n",
    "                 mc_type):\n",
    "        self.num_simulations = num_simulations\n",
    "        self.spot_rate_model = spot_rate_model\n",
    "        self.mc_type = mc_type\n",
    "\n",
    "    def simulate(self):\n",
    "        spot_rates = pd.DataFrame()\n",
    "        for i in range(self.num_simulations):\n",
    "            spot_rates[i] = self.spot_rate_model.spot_rates()['SPOT_RATE']  \n",
    "        \n",
    "        bond_prices = spot_rates\n",
    "        for i in range(self.num_simulations):\n",
    "            bond_prices[i] = np.exp(-bond_prices[i].cumsum()*self.spot_rate_model.delta_t)\n",
    "            \n",
    "        bond_prices = bond_prices.mean(axis=1)\n",
    "        return bond_prices"
   ]
  },
  {
   "cell_type": "code",
   "execution_count": 103,
   "metadata": {},
   "outputs": [],
   "source": [
    "mc = MonteCarloSimulation(1000, spot_rate_model, \"\")"
   ]
  },
  {
   "cell_type": "code",
   "execution_count": 104,
   "metadata": {},
   "outputs": [],
   "source": [
    "sr = mc.simulate()"
   ]
  },
  {
   "cell_type": "code",
   "execution_count": 106,
   "metadata": {},
   "outputs": [
    {
     "data": {
      "text/plain": [
       "<matplotlib.axes._subplots.AxesSubplot at 0x7feef90a2760>"
      ]
     },
     "execution_count": 106,
     "metadata": {},
     "output_type": "execute_result"
    },
    {
     "data": {
      "image/png": "[encoded data removed]",
      "text/plain": [
       "<matplotlib.figure.Figure at 0x7feef8c3aa90>"
      ]
     },
     "metadata": {
      "needs_background": "light"
     },
     "output_type": "display_data"
    }
   ],
   "source": [
    "sr.plot()"
   ]
  },
  {
   "cell_type": "code",
   "execution_count": null,
   "metadata": {},
   "outputs": [],
   "source": []
  }
 ],
 "metadata": {
  "kernelspec": {
   "display_name": "Python 3",
   "language": "python",
   "name": "python3"
  },
  "language_info": {
   "codemirror_mode": {
    "name": "ipython",
    "version": 3
   },
   "file_extension": ".py",
   "mimetype": "text/x-python",
   "name": "python",
   "nbconvert_exporter": "python",
   "pygments_lexer": "ipython3",
   "version": "3.8.3"
  }
 },
 "nbformat": 4,
 "nbformat_minor": 4
}
