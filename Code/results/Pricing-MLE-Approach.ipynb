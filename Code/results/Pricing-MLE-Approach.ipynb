{
 "cells": [
  {
   "cell_type": "code",
   "execution_count": 81,
   "metadata": {},
   "outputs": [],
   "source": [
    "import sys; sys.path.insert(0, '..') # necessary for successful custom module imports\n",
    "import numpy as np\n",
    "import pandas as pd\n",
    "import matplotlib.pyplot as plt\n",
    "from models.jump_vasicek import JumpVasicek\n",
    "from models.vasicek import Vasicek\n",
    "from pricing.pricing import Pricing\n",
    "from models.cir import CIR\n",
    "from models.jump_cir import JumpCIR\n",
    "import warnings\n",
    "warnings.filterwarnings(\"ignore\")"
   ]
  },
  {
   "cell_type": "markdown",
   "metadata": {},
   "source": [
    "# VASICEK - BOND"
   ]
  },
  {
   "cell_type": "code",
   "execution_count": 82,
   "metadata": {},
   "outputs": [],
   "source": [
    "fitted_params = {\n",
    "    \"kappa\": 32.18,\n",
    "    \"mu_r\": 0.0009042,\n",
    "    \"sigma\": 0.00146,\n",
    "    \"mu\": 0,\n",
    "    \"gamma\": 0.01,\n",
    "    \"h\": 10\n",
    "}"
   ]
  },
  {
   "cell_type": "code",
   "execution_count": 83,
   "metadata": {},
   "outputs": [],
   "source": [
    "xls = pd.ExcelFile('../data/yield_curve15022021.xlsx')\n",
    "yield_curve = pd.read_excel(xls, 'Sheet1')\n",
    "yield_curve = yield_curve.set_index('Dates')"
   ]
  },
  {
   "cell_type": "code",
   "execution_count": 84,
   "metadata": {},
   "outputs": [],
   "source": [
    "yield_curve_2_5_21 = pd.DataFrame((yield_curve[yield_curve.index == '2/5/2021']).T.values/100)\n",
    "yield_curve_2_5_21['DATE'] = yield_curve.columns\n",
    "yield_curve_2_5_21.columns = ['YIELD','DATE']"
   ]
  },
  {
   "cell_type": "code",
   "execution_count": 85,
   "metadata": {},
   "outputs": [],
   "source": [
    "def convert_to_years(row):\n",
    "    if 'M' in row['DATE']:\n",
    "        return int(row['DATE'].split('M')[0])/12\n",
    "    elif 'Y' in row['DATE']:\n",
    "        return int(row['DATE'].split('Y')[0])\n",
    "    \n",
    "yield_curve_2_5_21['YEARS'] = yield_curve_2_5_21.apply(convert_to_years, axis=1)"
   ]
  },
  {
   "cell_type": "code",
   "execution_count": 86,
   "metadata": {},
   "outputs": [],
   "source": [
    "yield_curve_2_5_21['PRICE'] = np.exp(-yield_curve_2_5_21['YEARS']*yield_curve_2_5_21['YIELD'])\n",
    "yield_curve_2_5_21 = yield_curve_2_5_21.set_index('DATE')"
   ]
  },
  {
   "cell_type": "code",
   "execution_count": 87,
   "metadata": {},
   "outputs": [],
   "source": [
    "vasicek = Vasicek(fitted_params)\n",
    "pricing = Pricing(vasicek)"
   ]
  },
  {
   "cell_type": "code",
   "execution_count": 88,
   "metadata": {},
   "outputs": [],
   "source": [
    "prices = np.empty(len(yield_curve_2_5_21))\n",
    "std = np.empty(len(yield_curve_2_5_21))\n",
    "\n",
    "i = 0\n",
    "for t in yield_curve_2_5_21['YEARS'].values:\n",
    "    prices[i], std[i] = pricing.bond_price(26, 0.001, 100, t)\n",
    "    i = i+1"
   ]
  },
  {
   "cell_type": "code",
   "execution_count": 89,
   "metadata": {},
   "outputs": [],
   "source": [
    "yield_curve_2_5_21['PREDICTED PRICE'] = prices"
   ]
  },
  {
   "cell_type": "code",
   "execution_count": 90,
   "metadata": {},
   "outputs": [
    {
     "data": {
      "text/plain": [
       "<AxesSubplot:title={'center':'VASICEK - BOND PRICES'}, xlabel='DATE'>"
      ]
     },
     "execution_count": 90,
     "metadata": {},
     "output_type": "execute_result"
    },
    {
     "data": {
      "image/png": "[encoded data removed]",
      "text/plain": [
       "<Figure size 432x288 with 1 Axes>"
      ]
     },
     "metadata": {
      "needs_background": "light"
     },
     "output_type": "display_data"
    }
   ],
   "source": [
    "yield_curve_2_5_21[['PRICE', 'PREDICTED PRICE']].plot(legend=True, title='VASICEK - BOND PRICES')"
   ]
  },
  {
   "cell_type": "code",
   "execution_count": 91,
   "metadata": {},
   "outputs": [
    {
     "data": {
      "text/plain": [
       "array([1.35957839e-10, 4.04002848e-10, 3.53368979e-10, 5.38936965e-10,\n",
       "       1.11374062e-09, 2.13075024e-09, 4.13575141e-09, 6.85292849e-09,\n",
       "       9.68197382e-09, 1.02145649e-08, 2.64425476e-08, 3.29874613e-08])"
      ]
     },
     "execution_count": 91,
     "metadata": {},
     "output_type": "execute_result"
    }
   ],
   "source": [
    "std"
   ]
  },
  {
   "cell_type": "code",
   "execution_count": 98,
   "metadata": {},
   "outputs": [
    {
     "data": {
      "text/plain": [
       "0.0002489129150103464"
      ]
     },
     "execution_count": 98,
     "metadata": {},
     "output_type": "execute_result"
    }
   ],
   "source": [
    "abs(yield_curve_2_5_21['PRICE'] - yield_curve_2_5_21['PREDICTED PRICE'])[:5].mean()"
   ]
  },
  {
   "cell_type": "code",
   "execution_count": 99,
   "metadata": {},
   "outputs": [
    {
     "data": {
      "text/plain": [
       "0.14531843353467475"
      ]
     },
     "execution_count": 99,
     "metadata": {},
     "output_type": "execute_result"
    }
   ],
   "source": [
    "abs(yield_curve_2_5_21['PRICE'] - yield_curve_2_5_21['PREDICTED PRICE'])[6:].mean()"
   ]
  },
  {
   "cell_type": "code",
   "execution_count": 101,
   "metadata": {},
   "outputs": [
    {
     "data": {
      "text/plain": [
       "0.07277738981328023"
      ]
     },
     "execution_count": 101,
     "metadata": {},
     "output_type": "execute_result"
    }
   ],
   "source": [
    "abs(yield_curve_2_5_21['PRICE'] - yield_curve_2_5_21['PREDICTED PRICE']).mean()"
   ]
  },
  {
   "cell_type": "markdown",
   "metadata": {},
   "source": [
    "# JUMP VASICEK - BOND"
   ]
  },
  {
   "cell_type": "code",
   "execution_count": 102,
   "metadata": {},
   "outputs": [],
   "source": [
    "fitted_params = {\n",
    "    \"kappa\": 0.8078,\n",
    "    \"mu_r\": 0,\n",
    "    \"sigma\": 0.001446,\n",
    "    \"mu\": 0,\n",
    "    \"gamma\": 0.0001628,\n",
    "    \"h\": 4.885\n",
    "}"
   ]
  },
  {
   "cell_type": "code",
   "execution_count": 103,
   "metadata": {},
   "outputs": [],
   "source": [
    "jump_vasicek = JumpVasicek(fitted_params)\n",
    "jump_pricing = Pricing(jump_vasicek)"
   ]
  },
  {
   "cell_type": "code",
   "execution_count": 104,
   "metadata": {},
   "outputs": [],
   "source": [
    "prices = np.empty(len(yield_curve_2_5_21))\n",
    "std = np.empty(len(yield_curve_2_5_21))\n",
    "\n",
    "i = 0\n",
    "for t in yield_curve_2_5_21['YEARS'].values:\n",
    "    prices[i], std[i] = jump_pricing.bond_price(26, 0.001, 100, t)\n",
    "    i = i+1"
   ]
  },
  {
   "cell_type": "code",
   "execution_count": 105,
   "metadata": {},
   "outputs": [
    {
     "data": {
      "text/plain": [
       "<AxesSubplot:title={'center':'JUMP VASICEK - BOND PRICES'}, xlabel='DATE'>"
      ]
     },
     "execution_count": 105,
     "metadata": {},
     "output_type": "execute_result"
    },
    {
     "data": {
      "image/png": "[encoded data removed]",
      "text/plain": [
       "<Figure size 432x288 with 1 Axes>"
      ]
     },
     "metadata": {
      "needs_background": "light"
     },
     "output_type": "display_data"
    }
   ],
   "source": [
    "yield_curve_2_5_21['PREDICTED PRICE'] = prices\n",
    "yield_curve_2_5_21[['PRICE', 'PREDICTED PRICE']].plot(legend=True, title='JUMP VASICEK - BOND PRICES')"
   ]
  },
  {
   "cell_type": "code",
   "execution_count": 106,
   "metadata": {},
   "outputs": [
    {
     "data": {
      "text/plain": [
       "array([1.30323849e-09, 4.43383939e-09, 6.85342780e-09, 5.48476229e-08,\n",
       "       3.34306332e-07, 1.28152961e-06, 3.08153449e-06, 8.79458295e-06,\n",
       "       1.61834882e-05, 2.20504582e-05, 3.74484254e-05, 5.61409241e-05])"
      ]
     },
     "execution_count": 106,
     "metadata": {},
     "output_type": "execute_result"
    }
   ],
   "source": [
    "std"
   ]
  },
  {
   "cell_type": "code",
   "execution_count": 112,
   "metadata": {},
   "outputs": [
    {
     "data": {
      "text/plain": [
       "0.00019330605709106942"
      ]
     },
     "execution_count": 112,
     "metadata": {},
     "output_type": "execute_result"
    }
   ],
   "source": [
    "abs(yield_curve_2_5_21['PRICE'] - yield_curve_2_5_21['PREDICTED PRICE'])[:5].mean()"
   ]
  },
  {
   "cell_type": "code",
   "execution_count": 111,
   "metadata": {},
   "outputs": [
    {
     "data": {
      "text/plain": [
       "0.15535905768202293"
      ]
     },
     "execution_count": 111,
     "metadata": {},
     "output_type": "execute_result"
    }
   ],
   "source": [
    "abs(yield_curve_2_5_21['PRICE'] - yield_curve_2_5_21['PREDICTED PRICE'])[6:].mean()"
   ]
  },
  {
   "cell_type": "code",
   "execution_count": 110,
   "metadata": {},
   "outputs": [
    {
     "data": {
      "text/plain": [
       "0.07784456142923632"
      ]
     },
     "execution_count": 110,
     "metadata": {},
     "output_type": "execute_result"
    }
   ],
   "source": [
    "abs(yield_curve_2_5_21['PRICE'] - yield_curve_2_5_21['PREDICTED PRICE']).mean()"
   ]
  },
  {
   "cell_type": "markdown",
   "metadata": {},
   "source": [
    "# VASICEK - SWAP"
   ]
  },
  {
   "cell_type": "code",
   "execution_count": 113,
   "metadata": {},
   "outputs": [],
   "source": [
    "xls = pd.ExcelFile('../data/treasury_swap_feb05.xlsx')\n",
    "swap_rates = pd.read_excel(xls, 'Sheet1')[1:]\n",
    "swap_rates.index = swap_rates['Term']\n",
    "swap_rates['Mid'] = swap_rates['Mid']/100"
   ]
  },
  {
   "cell_type": "code",
   "execution_count": 114,
   "metadata": {},
   "outputs": [],
   "source": [
    "sr = np.empty(len(swap_rates))\n",
    "std = np.empty(len(swap_rates))\n",
    "\n",
    "i = 0\n",
    "for index, row in swap_rates.iterrows():\n",
    "    T = int(row['Term'].split(\" YR\")[0])\n",
    "    T = np.arange(T*2)/2\n",
    "    sr[i], std[i] = pricing.swap_rate(26, 0.001, 100, 2, T)\n",
    "    i = i + 1"
   ]
  },
  {
   "cell_type": "code",
   "execution_count": 115,
   "metadata": {},
   "outputs": [
    {
     "data": {
      "text/plain": [
       "<AxesSubplot:title={'center':'VASICEK - SWAP RATES'}, xlabel='Term'>"
      ]
     },
     "execution_count": 115,
     "metadata": {},
     "output_type": "execute_result"
    },
    {
     "data": {
      "image/png": "[encoded data removed]",
      "text/plain": [
       "<Figure size 432x288 with 1 Axes>"
      ]
     },
     "metadata": {
      "needs_background": "light"
     },
     "output_type": "display_data"
    }
   ],
   "source": [
    "swap_rates['SWAP RATE'] = swap_rates['Mid']\n",
    "swap_rates['PREDICTED SWAP RATE'] = sr\n",
    "swap_rates[['SWAP RATE', 'PREDICTED SWAP RATE']].plot(legend=True, title='VASICEK - SWAP RATES')"
   ]
  },
  {
   "cell_type": "code",
   "execution_count": 116,
   "metadata": {},
   "outputs": [
    {
     "data": {
      "text/plain": [
       "array([6.11353241e-10, 1.34077023e-09, 1.10379558e-09, 1.38186501e-09,\n",
       "       1.52095628e-09, 1.35437748e-09, 1.26372566e-09])"
      ]
     },
     "execution_count": 116,
     "metadata": {},
     "output_type": "execute_result"
    }
   ],
   "source": [
    "std"
   ]
  },
  {
   "cell_type": "code",
   "execution_count": 120,
   "metadata": {},
   "outputs": [
    {
     "data": {
      "text/plain": [
       "0.0006013331604201649"
      ]
     },
     "execution_count": 120,
     "metadata": {},
     "output_type": "execute_result"
    }
   ],
   "source": [
    "abs(swap_rates['SWAP RATE'] - swap_rates['PREDICTED SWAP RATE'])[:3].mean()"
   ]
  },
  {
   "cell_type": "code",
   "execution_count": 121,
   "metadata": {},
   "outputs": [
    {
     "data": {
      "text/plain": [
       "0.0063439506103904865"
      ]
     },
     "execution_count": 121,
     "metadata": {},
     "output_type": "execute_result"
    }
   ],
   "source": [
    "abs(swap_rates['SWAP RATE'] - swap_rates['PREDICTED SWAP RATE'])[4:].mean()"
   ]
  },
  {
   "cell_type": "code",
   "execution_count": 122,
   "metadata": {},
   "outputs": [
    {
     "data": {
      "text/plain": [
       "0.00324503196484816"
      ]
     },
     "execution_count": 122,
     "metadata": {},
     "output_type": "execute_result"
    }
   ],
   "source": [
    "abs(swap_rates['SWAP RATE'] - swap_rates['PREDICTED SWAP RATE']).mean()"
   ]
  },
  {
   "cell_type": "markdown",
   "metadata": {},
   "source": [
    "# JUMP VASICEK - SWAP"
   ]
  },
  {
   "cell_type": "code",
   "execution_count": 123,
   "metadata": {},
   "outputs": [],
   "source": [
    "sr = np.empty(len(swap_rates))\n",
    "std = np.empty(len(swap_rates))\n",
    "\n",
    "i = 0\n",
    "for index, row in swap_rates.iterrows():\n",
    "    T = int(row['Term'].split(\" YR\")[0])\n",
    "    T = np.arange(T*2)/2\n",
    "    sr[i], std[i] = jump_pricing.swap_rate(26, 0.001, 100, 2, T)\n",
    "    i = i + 1"
   ]
  },
  {
   "cell_type": "code",
   "execution_count": 124,
   "metadata": {},
   "outputs": [
    {
     "data": {
      "text/plain": [
       "<AxesSubplot:title={'center':'JUMP VASICEK - SWAP RATES'}, xlabel='Term'>"
      ]
     },
     "execution_count": 124,
     "metadata": {},
     "output_type": "execute_result"
    },
    {
     "data": {
      "image/png": "[encoded data removed]",
      "text/plain": [
       "<Figure size 432x288 with 1 Axes>"
      ]
     },
     "metadata": {
      "needs_background": "light"
     },
     "output_type": "display_data"
    }
   ],
   "source": [
    "swap_rates['SWAP RATE'] = swap_rates['Mid']\n",
    "swap_rates['PREDICTED SWAP RATE'] = sr\n",
    "swap_rates[['SWAP RATE', 'PREDICTED SWAP RATE']].plot(legend=True, title='JUMP VASICEK - SWAP RATES')"
   ]
  },
  {
   "cell_type": "code",
   "execution_count": 125,
   "metadata": {},
   "outputs": [
    {
     "data": {
      "text/plain": [
       "array([5.33904320e-08, 3.86250254e-07, 7.15909814e-07, 1.31861325e-06,\n",
       "       1.10929167e-06, 1.79269176e-06, 1.91870430e-06])"
      ]
     },
     "execution_count": 125,
     "metadata": {},
     "output_type": "execute_result"
    }
   ],
   "source": [
    "std"
   ]
  },
  {
   "cell_type": "code",
   "execution_count": 128,
   "metadata": {},
   "outputs": [
    {
     "data": {
      "text/plain": [
       "0.0008368419275747225"
      ]
     },
     "execution_count": 128,
     "metadata": {},
     "output_type": "execute_result"
    }
   ],
   "source": [
    "abs(swap_rates['SWAP RATE'] - swap_rates['PREDICTED SWAP RATE'])[:3].mean()"
   ]
  },
  {
   "cell_type": "code",
   "execution_count": 129,
   "metadata": {},
   "outputs": [
    {
     "data": {
      "text/plain": [
       "0.007007641421651177"
      ]
     },
     "execution_count": 129,
     "metadata": {},
     "output_type": "execute_result"
    }
   ],
   "source": [
    "abs(swap_rates['SWAP RATE'] - swap_rates['PREDICTED SWAP RATE'])[4:].mean()"
   ]
  },
  {
   "cell_type": "code",
   "execution_count": 130,
   "metadata": {},
   "outputs": [
    {
     "data": {
      "text/plain": [
       "0.0037030895385695753"
      ]
     },
     "execution_count": 130,
     "metadata": {},
     "output_type": "execute_result"
    }
   ],
   "source": [
    "abs(swap_rates['SWAP RATE'] - swap_rates['PREDICTED SWAP RATE']).mean()"
   ]
  },
  {
   "cell_type": "markdown",
   "metadata": {},
   "source": [
    "# CIR - BOND"
   ]
  },
  {
   "cell_type": "code",
   "execution_count": 131,
   "metadata": {},
   "outputs": [],
   "source": [
    "fitted_params = {\n",
    "    \"kappa\": 0.4635,\n",
    "    \"mu_r\": 0,\n",
    "    \"sigma\": 0.0576,\n",
    "    \"mu\": 0,\n",
    "    \"gamma\": 0.01,\n",
    "    \"h\": 10\n",
    "}"
   ]
  },
  {
   "cell_type": "code",
   "execution_count": 132,
   "metadata": {},
   "outputs": [],
   "source": [
    "cir = CIR(fitted_params)\n",
    "pricing_cir = Pricing(cir)"
   ]
  },
  {
   "cell_type": "code",
   "execution_count": 133,
   "metadata": {},
   "outputs": [],
   "source": [
    "prices = np.empty(len(yield_curve_2_5_21))\n",
    "std = np.empty(len(yield_curve_2_5_21))\n",
    "\n",
    "i = 0\n",
    "for t in yield_curve_2_5_21['YEARS'].values:\n",
    "    prices[i], std[i] = pricing_cir.bond_price(26, 0.001, 100, t)\n",
    "    i = i+1"
   ]
  },
  {
   "cell_type": "code",
   "execution_count": 134,
   "metadata": {},
   "outputs": [
    {
     "data": {
      "text/plain": [
       "<AxesSubplot:title={'center':'CIR - BOND PRICES'}, xlabel='DATE'>"
      ]
     },
     "execution_count": 134,
     "metadata": {},
     "output_type": "execute_result"
    },
    {
     "data": {
      "image/png": "[encoded data removed]",
      "text/plain": [
       "<Figure size 432x288 with 1 Axes>"
      ]
     },
     "metadata": {
      "needs_background": "light"
     },
     "output_type": "display_data"
    }
   ],
   "source": [
    "yield_curve_2_5_21['PREDICTED PRICE'] = prices\n",
    "yield_curve_2_5_21[['PRICE', 'PREDICTED PRICE']].plot(legend=True, title='CIR - BOND PRICES')\n"
   ]
  },
  {
   "cell_type": "code",
   "execution_count": 135,
   "metadata": {},
   "outputs": [
    {
     "data": {
      "text/plain": [
       "array([5.84417048e-06, 1.75263638e-05, 3.12919125e-05, 9.39907476e-05,\n",
       "       3.80864038e-04, 7.91621580e-04, 1.65006232e-03, 2.06025842e-03,\n",
       "       2.46018130e-03, 2.49689685e-03, 1.82475351e-03, 2.19781503e-03])"
      ]
     },
     "execution_count": 135,
     "metadata": {},
     "output_type": "execute_result"
    }
   ],
   "source": [
    "std"
   ]
  },
  {
   "cell_type": "code",
   "execution_count": 138,
   "metadata": {},
   "outputs": [
    {
     "data": {
      "text/plain": [
       "0.00022573247259534136"
      ]
     },
     "execution_count": 138,
     "metadata": {},
     "output_type": "execute_result"
    }
   ],
   "source": [
    "abs(yield_curve_2_5_21['PRICE'] - yield_curve_2_5_21['PREDICTED PRICE'])[:5].mean()"
   ]
  },
  {
   "cell_type": "code",
   "execution_count": 139,
   "metadata": {},
   "outputs": [
    {
     "data": {
      "text/plain": [
       "0.1545502264597078"
      ]
     },
     "execution_count": 139,
     "metadata": {},
     "output_type": "execute_result"
    }
   ],
   "source": [
    "abs(yield_curve_2_5_21['PRICE'] - yield_curve_2_5_21['PREDICTED PRICE'])[6:].mean()"
   ]
  },
  {
   "cell_type": "code",
   "execution_count": 140,
   "metadata": {},
   "outputs": [
    {
     "data": {
      "text/plain": [
       "0.07743569969256898"
      ]
     },
     "execution_count": 140,
     "metadata": {},
     "output_type": "execute_result"
    }
   ],
   "source": [
    "abs(yield_curve_2_5_21['PRICE'] - yield_curve_2_5_21['PREDICTED PRICE']).mean()"
   ]
  },
  {
   "cell_type": "markdown",
   "metadata": {},
   "source": [
    "# CIR - SWAP"
   ]
  },
  {
   "cell_type": "code",
   "execution_count": 141,
   "metadata": {},
   "outputs": [],
   "source": [
    "sr = np.empty(len(swap_rates))\n",
    "std = np.empty(len(swap_rates))\n",
    "\n",
    "i = 0\n",
    "for index, row in swap_rates.iterrows():\n",
    "    T = int(row['Term'].split(\" YR\")[0])\n",
    "    T = np.arange(T*2)/2\n",
    "    sr[i], std[i] = pricing_cir.swap_rate(26, 0.001, 100, 2, T)\n",
    "    i = i + 1"
   ]
  },
  {
   "cell_type": "code",
   "execution_count": 142,
   "metadata": {},
   "outputs": [
    {
     "data": {
      "text/plain": [
       "<AxesSubplot:title={'center':'CIR - SWAP RATES'}, xlabel='Term'>"
      ]
     },
     "execution_count": 142,
     "metadata": {},
     "output_type": "execute_result"
    },
    {
     "data": {
      "image/png": "[encoded data removed]",
      "text/plain": [
       "<Figure size 432x288 with 1 Axes>"
      ]
     },
     "metadata": {
      "needs_background": "light"
     },
     "output_type": "display_data"
    }
   ],
   "source": [
    "swap_rates['SWAP RATE'] = swap_rates['Mid']\n",
    "swap_rates['PREDICTED SWAP RATE'] = sr\n",
    "swap_rates[['SWAP RATE', 'PREDICTED SWAP RATE']].plot(legend=True, title='CIR - SWAP RATES')"
   ]
  },
  {
   "cell_type": "code",
   "execution_count": 143,
   "metadata": {},
   "outputs": [
    {
     "data": {
      "text/plain": [
       "array([0.00010608, 0.00028132, 0.00036367, 0.0004094 , 0.00040575,\n",
       "       0.00028877, 0.00024399])"
      ]
     },
     "execution_count": 143,
     "metadata": {},
     "output_type": "execute_result"
    }
   ],
   "source": [
    "std"
   ]
  },
  {
   "cell_type": "code",
   "execution_count": 146,
   "metadata": {},
   "outputs": [
    {
     "data": {
      "text/plain": [
       "0.000745503897683709"
      ]
     },
     "execution_count": 146,
     "metadata": {},
     "output_type": "execute_result"
    }
   ],
   "source": [
    "abs(swap_rates['SWAP RATE'] - swap_rates['PREDICTED SWAP RATE'])[:3].mean()"
   ]
  },
  {
   "cell_type": "code",
   "execution_count": 147,
   "metadata": {},
   "outputs": [
    {
     "data": {
      "text/plain": [
       "0.006904434722168229"
      ]
     },
     "execution_count": 147,
     "metadata": {},
     "output_type": "execute_result"
    }
   ],
   "source": [
    "abs(swap_rates['SWAP RATE'] - swap_rates['PREDICTED SWAP RATE'])[4:].mean()"
   ]
  },
  {
   "cell_type": "code",
   "execution_count": 149,
   "metadata": {},
   "outputs": [
    {
     "data": {
      "text/plain": [
       "0.003592935267748337"
      ]
     },
     "execution_count": 149,
     "metadata": {},
     "output_type": "execute_result"
    }
   ],
   "source": [
    "abs(swap_rates['SWAP RATE'] - swap_rates['PREDICTED SWAP RATE']).mean()"
   ]
  },
  {
   "cell_type": "markdown",
   "metadata": {},
   "source": [
    "# JUMP CIR - BOND"
   ]
  },
  {
   "cell_type": "code",
   "execution_count": 150,
   "metadata": {},
   "outputs": [],
   "source": [
    "fitted_params = {\n",
    "    \"kappa\": 0.4782,\n",
    "    \"mu_r\": 0,\n",
    "    \"sigma\": 0.04627,\n",
    "    \"mu\": 0,\n",
    "    \"gamma\": 0.0001648,\n",
    "    \"h\": 10.03\n",
    "}"
   ]
  },
  {
   "cell_type": "code",
   "execution_count": 151,
   "metadata": {},
   "outputs": [],
   "source": [
    "jump_cir = JumpCIR(fitted_params)\n",
    "pricing_jump_cir = Pricing(jump_cir)"
   ]
  },
  {
   "cell_type": "code",
   "execution_count": 152,
   "metadata": {},
   "outputs": [],
   "source": [
    "prices = np.empty(len(yield_curve_2_5_21))\n",
    "std = np.empty(len(yield_curve_2_5_21))\n",
    "\n",
    "i = 0\n",
    "for t in yield_curve_2_5_21['YEARS'].values:\n",
    "    prices[i], std[i] = pricing_jump_cir.bond_price(26, 0.001, 100, t)\n",
    "    i = i+1"
   ]
  },
  {
   "cell_type": "code",
   "execution_count": 153,
   "metadata": {},
   "outputs": [
    {
     "data": {
      "text/plain": [
       "<AxesSubplot:title={'center':'JUMP CIR - BOND PRICES'}, xlabel='DATE'>"
      ]
     },
     "execution_count": 153,
     "metadata": {},
     "output_type": "execute_result"
    },
    {
     "data": {
      "image/png": "[encoded data removed]",
      "text/plain": [
       "<Figure size 432x288 with 1 Axes>"
      ]
     },
     "metadata": {
      "needs_background": "light"
     },
     "output_type": "display_data"
    }
   ],
   "source": [
    "yield_curve_2_5_21['PREDICTED PRICE'] = prices\n",
    "yield_curve_2_5_21[['PRICE', 'PREDICTED PRICE']].plot(legend=True, title='JUMP CIR - BOND PRICES')\n"
   ]
  },
  {
   "cell_type": "code",
   "execution_count": 154,
   "metadata": {},
   "outputs": [
    {
     "data": {
      "text/plain": [
       "array([3.98606270e-06, 1.27443560e-05, 1.74669335e-05, 7.02602465e-05,\n",
       "       2.41569983e-04, 6.42666832e-04, 1.03637281e-03, 1.42052762e-03,\n",
       "       1.82172572e-03, 1.86028998e-03, 2.55547569e-03, 1.28508235e-03])"
      ]
     },
     "execution_count": 154,
     "metadata": {},
     "output_type": "execute_result"
    }
   ],
   "source": [
    "std"
   ]
  },
  {
   "cell_type": "code",
   "execution_count": 157,
   "metadata": {},
   "outputs": [
    {
     "data": {
      "text/plain": [
       "0.00022485249608403813"
      ]
     },
     "execution_count": 157,
     "metadata": {},
     "output_type": "execute_result"
    }
   ],
   "source": [
    "abs(yield_curve_2_5_21['PRICE'] -  yield_curve_2_5_21['PREDICTED PRICE'])[:5].mean()"
   ]
  },
  {
   "cell_type": "code",
   "execution_count": 158,
   "metadata": {},
   "outputs": [
    {
     "data": {
      "text/plain": [
       "0.15461638093091803"
      ]
     },
     "execution_count": 158,
     "metadata": {},
     "output_type": "execute_result"
    }
   ],
   "source": [
    "abs(yield_curve_2_5_21['PRICE'] -  yield_curve_2_5_21['PREDICTED PRICE'])[6:].mean()"
   ]
  },
  {
   "cell_type": "code",
   "execution_count": 159,
   "metadata": {},
   "outputs": [
    {
     "data": {
      "text/plain": [
       "0.0774617869174416"
      ]
     },
     "execution_count": 159,
     "metadata": {},
     "output_type": "execute_result"
    }
   ],
   "source": [
    "abs(yield_curve_2_5_21['PRICE'] -  yield_curve_2_5_21['PREDICTED PRICE']).mean()"
   ]
  },
  {
   "cell_type": "markdown",
   "metadata": {},
   "source": [
    "# JUMP CIR - SWAP"
   ]
  },
  {
   "cell_type": "code",
   "execution_count": 160,
   "metadata": {},
   "outputs": [],
   "source": [
    "sr = np.empty(len(swap_rates))\n",
    "std = np.empty(len(swap_rates))\n",
    "\n",
    "i = 0\n",
    "for index, row in swap_rates.iterrows():\n",
    "    T = int(row['Term'].split(\" YR\")[0])\n",
    "    T = np.arange(T*2)/2\n",
    "    sr[i], std[i] = pricing_jump_cir.swap_rate(26, 0.001, 100, 2, T)\n",
    "    i = i + 1"
   ]
  },
  {
   "cell_type": "code",
   "execution_count": 161,
   "metadata": {},
   "outputs": [
    {
     "data": {
      "text/plain": [
       "<AxesSubplot:title={'center':'JUMP CIR - SWAP RATES'}, xlabel='Term'>"
      ]
     },
     "execution_count": 161,
     "metadata": {},
     "output_type": "execute_result"
    },
    {
     "data": {
      "image/png": "[encoded data removed]",
      "text/plain": [
       "<Figure size 432x288 with 1 Axes>"
      ]
     },
     "metadata": {
      "needs_background": "light"
     },
     "output_type": "display_data"
    }
   ],
   "source": [
    "swap_rates['SWAP RATE'] = swap_rates['Mid']\n",
    "swap_rates['PREDICTED SWAP RATE'] = sr\n",
    "swap_rates[['SWAP RATE', 'PREDICTED SWAP RATE']].plot(legend=True, title='JUMP CIR - SWAP RATES')"
   ]
  },
  {
   "cell_type": "code",
   "execution_count": 162,
   "metadata": {},
   "outputs": [
    {
     "data": {
      "text/plain": [
       "array([8.07006420e-05, 1.73448635e-04, 2.16159734e-04, 2.36092213e-04,\n",
       "       2.36715166e-04, 2.47215654e-04, 2.00905791e-04])"
      ]
     },
     "execution_count": 162,
     "metadata": {},
     "output_type": "execute_result"
    }
   ],
   "source": [
    "std"
   ]
  },
  {
   "cell_type": "code",
   "execution_count": 166,
   "metadata": {},
   "outputs": [
    {
     "data": {
      "text/plain": [
       "0.000775891837318644"
      ]
     },
     "execution_count": 166,
     "metadata": {},
     "output_type": "execute_result"
    }
   ],
   "source": [
    "abs(swap_rates['SWAP RATE'] - swap_rates['PREDICTED SWAP RATE'])[:3].mean()"
   ]
  },
  {
   "cell_type": "code",
   "execution_count": 167,
   "metadata": {},
   "outputs": [
    {
     "data": {
      "text/plain": [
       "0.006912987834874008"
      ]
     },
     "execution_count": 167,
     "metadata": {},
     "output_type": "execute_result"
    }
   ],
   "source": [
    "abs(swap_rates['SWAP RATE'] - swap_rates['PREDICTED SWAP RATE'])[4:].mean()"
   ]
  },
  {
   "cell_type": "code",
   "execution_count": 168,
   "metadata": {},
   "outputs": [
    {
     "data": {
      "text/plain": [
       "0.0036234929911705604"
      ]
     },
     "execution_count": 168,
     "metadata": {},
     "output_type": "execute_result"
    }
   ],
   "source": [
    "abs(swap_rates['SWAP RATE'] - swap_rates['PREDICTED SWAP RATE']).mean()"
   ]
  },
  {
   "cell_type": "code",
   "execution_count": null,
   "metadata": {},
   "outputs": [],
   "source": []
  }
 ],
 "metadata": {
  "kernelspec": {
   "display_name": "Python 3",
   "language": "python",
   "name": "python3"
  },
  "language_info": {
   "codemirror_mode": {
    "name": "ipython",
    "version": 3
   },
   "file_extension": ".py",
   "mimetype": "text/x-python",
   "name": "python",
   "nbconvert_exporter": "python",
   "pygments_lexer": "ipython3",
   "version": "3.8.3"
  }
 },
 "nbformat": 4,
 "nbformat_minor": 4
}
