{
 "cells": [
  {
   "cell_type": "code",
   "execution_count": 113,
   "metadata": {},
   "outputs": [],
   "source": [
    "import sys; sys.path.insert(0, '..') # necessary for successful custom module imports\n",
    "import numpy as np\n",
    "import pandas as pd\n",
    "import matplotlib.pyplot as plt\n",
    "from models.jump_vasicek import JumpVasicek\n",
    "from models.vasicek import Vasicek\n",
    "from pricing.pricing import Pricing\n",
    "from models.cir import CIR\n",
    "from models.jump_cir import JumpCIR\n",
    "import warnings\n",
    "warnings.filterwarnings(\"ignore\")"
   ]
  },
  {
   "cell_type": "markdown",
   "metadata": {},
   "source": [
    "# VASICEK - BOND"
   ]
  },
  {
   "cell_type": "code",
   "execution_count": 114,
   "metadata": {},
   "outputs": [],
   "source": [
    "fitted_params = {\n",
    "    \"kappa\": 0.09379583,\n",
    "    \"mu_r\": 0.03578758,\n",
    "    \"sigma\": 0.01,\n",
    "    \"mu\": 0,\n",
    "    \"gamma\": 0.01,\n",
    "    \"h\": 10\n",
    "}"
   ]
  },
  {
   "cell_type": "code",
   "execution_count": 115,
   "metadata": {},
   "outputs": [],
   "source": [
    "xls = pd.ExcelFile('../data/yield_curve15022021.xlsx')\n",
    "yield_curve = pd.read_excel(xls, 'Sheet1')\n",
    "yield_curve = yield_curve.set_index('Dates')"
   ]
  },
  {
   "cell_type": "code",
   "execution_count": 116,
   "metadata": {},
   "outputs": [],
   "source": [
    "yield_curve_2_5_21 = pd.DataFrame((yield_curve[yield_curve.index == '2/5/2021']).T.values/100)\n",
    "yield_curve_2_5_21['DATE'] = yield_curve.columns\n",
    "yield_curve_2_5_21.columns = ['YIELD','DATE']"
   ]
  },
  {
   "cell_type": "code",
   "execution_count": 117,
   "metadata": {},
   "outputs": [],
   "source": [
    "def convert_to_years(row):\n",
    "    if 'M' in row['DATE']:\n",
    "        return int(row['DATE'].split('M')[0])/12\n",
    "    elif 'Y' in row['DATE']:\n",
    "        return int(row['DATE'].split('Y')[0])\n",
    "    \n",
    "yield_curve_2_5_21['YEARS'] = yield_curve_2_5_21.apply(convert_to_years, axis=1)"
   ]
  },
  {
   "cell_type": "code",
   "execution_count": 118,
   "metadata": {},
   "outputs": [],
   "source": [
    "yield_curve_2_5_21['PRICE'] = np.exp(-yield_curve_2_5_21['YEARS']*yield_curve_2_5_21['YIELD'])\n",
    "yield_curve_2_5_21 = yield_curve_2_5_21.set_index('DATE')"
   ]
  },
  {
   "cell_type": "code",
   "execution_count": 119,
   "metadata": {},
   "outputs": [],
   "source": [
    "vasicek = Vasicek(fitted_params)\n",
    "pricing = Pricing(vasicek)"
   ]
  },
  {
   "cell_type": "code",
   "execution_count": 120,
   "metadata": {},
   "outputs": [],
   "source": [
    "prices = np.empty(len(yield_curve_2_5_21))\n",
    "std = np.empty(len(yield_curve_2_5_21))\n",
    "\n",
    "i = 0\n",
    "for t in yield_curve_2_5_21['YEARS'].values:\n",
    "    prices[i], std[i] = pricing.bond_price(26, 0.001, 100, t)\n",
    "    i = i+1"
   ]
  },
  {
   "cell_type": "code",
   "execution_count": 121,
   "metadata": {},
   "outputs": [],
   "source": [
    "yield_curve_2_5_21['PREDICTED PRICE'] = prices"
   ]
  },
  {
   "cell_type": "code",
   "execution_count": 122,
   "metadata": {},
   "outputs": [
    {
     "data": {
      "text/plain": [
       "<AxesSubplot:title={'center':'VASICEK - BOND PRICES'}, xlabel='DATE'>"
      ]
     },
     "execution_count": 122,
     "metadata": {},
     "output_type": "execute_result"
    },
    {
     "data": {
      "image/png": "[encoded data removed]",
      "text/plain": [
       "<Figure size 432x288 with 1 Axes>"
      ]
     },
     "metadata": {
      "needs_background": "light"
     },
     "output_type": "display_data"
    }
   ],
   "source": [
    "yield_curve_2_5_21[['PRICE', 'PREDICTED PRICE']].plot(legend=True, title='VASICEK - BOND PRICES')"
   ]
  },
  {
   "cell_type": "code",
   "execution_count": 123,
   "metadata": {},
   "outputs": [
    {
     "data": {
      "text/plain": [
       "array([4.62094683e-08, 2.32709417e-07, 4.41035273e-07, 2.39842229e-06,\n",
       "       2.21642663e-05, 1.85286674e-04, 4.84751303e-04, 2.37322804e-03,\n",
       "       4.02130639e-03, 1.09170581e-02, 3.78072891e-02, 6.53062363e-02])"
      ]
     },
     "execution_count": 123,
     "metadata": {},
     "output_type": "execute_result"
    }
   ],
   "source": [
    "std"
   ]
  },
  {
   "cell_type": "code",
   "execution_count": 128,
   "metadata": {},
   "outputs": [
    {
     "data": {
      "text/plain": [
       "0.0007473973910381071"
      ]
     },
     "execution_count": 128,
     "metadata": {},
     "output_type": "execute_result"
    }
   ],
   "source": [
    "abs(yield_curve_2_5_21['PRICE'] - yield_curve_2_5_21['PREDICTED PRICE'])[:5].mean()"
   ]
  },
  {
   "cell_type": "code",
   "execution_count": 129,
   "metadata": {},
   "outputs": [
    {
     "data": {
      "text/plain": [
       "0.010869933442694268"
      ]
     },
     "execution_count": 129,
     "metadata": {},
     "output_type": "execute_result"
    }
   ],
   "source": [
    "abs(yield_curve_2_5_21['PRICE'] - yield_curve_2_5_21['PREDICTED PRICE'])[6:].mean()"
   ]
  },
  {
   "cell_type": "code",
   "execution_count": 130,
   "metadata": {},
   "outputs": [
    {
     "data": {
      "text/plain": [
       "0.006256275316531372"
      ]
     },
     "execution_count": 130,
     "metadata": {},
     "output_type": "execute_result"
    }
   ],
   "source": [
    "abs(yield_curve_2_5_21['PRICE'] - yield_curve_2_5_21['PREDICTED PRICE']).mean()"
   ]
  },
  {
   "cell_type": "markdown",
   "metadata": {},
   "source": [
    "# JUMP VASICEK - BOND"
   ]
  },
  {
   "cell_type": "code",
   "execution_count": 131,
   "metadata": {},
   "outputs": [],
   "source": [
    "fitted_params = {\n",
    "    \"kappa\": 0.2719052,\n",
    "    \"mu_r\": 0.03017724,\n",
    "    \"sigma\": 0.01,\n",
    "    \"mu\": 0,\n",
    "    \"gamma\": 0.01,\n",
    "    \"h\": 10\n",
    "}"
   ]
  },
  {
   "cell_type": "code",
   "execution_count": 132,
   "metadata": {},
   "outputs": [],
   "source": [
    "jump_vasicek = JumpVasicek(fitted_params)\n",
    "jump_pricing = Pricing(jump_vasicek)"
   ]
  },
  {
   "cell_type": "code",
   "execution_count": 133,
   "metadata": {},
   "outputs": [],
   "source": [
    "prices = np.empty(len(yield_curve_2_5_21))\n",
    "std = np.empty(len(yield_curve_2_5_21))\n",
    "\n",
    "i = 0\n",
    "for t in yield_curve_2_5_21['YEARS'].values:\n",
    "    prices[i], std[i] = jump_pricing.bond_price(26, 0.001, 100, t)\n",
    "    i = i+1"
   ]
  },
  {
   "cell_type": "code",
   "execution_count": 134,
   "metadata": {},
   "outputs": [
    {
     "data": {
      "text/plain": [
       "<AxesSubplot:title={'center':'JUMP VASICEK - BOND PRICES'}, xlabel='DATE'>"
      ]
     },
     "execution_count": 134,
     "metadata": {},
     "output_type": "execute_result"
    },
    {
     "data": {
      "image/png": "[encoded data removed]",
      "text/plain": [
       "<Figure size 432x288 with 1 Axes>"
      ]
     },
     "metadata": {
      "needs_background": "light"
     },
     "output_type": "display_data"
    }
   ],
   "source": [
    "yield_curve_2_5_21['PREDICTED PRICE'] = prices\n",
    "yield_curve_2_5_21[['PRICE', 'PREDICTED PRICE']].plot(legend=True, title='JUMP VASICEK - BOND PRICES')"
   ]
  },
  {
   "cell_type": "code",
   "execution_count": 135,
   "metadata": {},
   "outputs": [
    {
     "data": {
      "text/plain": [
       "array([9.89304027e-07, 2.98678292e-06, 9.53236469e-06, 3.53937476e-05,\n",
       "       2.71231054e-04, 1.12666473e-03, 6.81131594e-03, 2.22702374e-02,\n",
       "       2.85051447e-02, 4.28476851e-02, 2.23278389e-01, 1.32948107e-01])"
      ]
     },
     "execution_count": 135,
     "metadata": {},
     "output_type": "execute_result"
    }
   ],
   "source": [
    "std"
   ]
  },
  {
   "cell_type": "code",
   "execution_count": 139,
   "metadata": {},
   "outputs": [
    {
     "data": {
      "text/plain": [
       "0.0013172109303445812"
      ]
     },
     "execution_count": 139,
     "metadata": {},
     "output_type": "execute_result"
    }
   ],
   "source": [
    "abs(yield_curve_2_5_21['PRICE'] - yield_curve_2_5_21['PREDICTED PRICE'])[:5].mean()"
   ]
  },
  {
   "cell_type": "code",
   "execution_count": 140,
   "metadata": {},
   "outputs": [
    {
     "data": {
      "text/plain": [
       "0.03180582035410832"
      ]
     },
     "execution_count": 140,
     "metadata": {},
     "output_type": "execute_result"
    }
   ],
   "source": [
    "abs(yield_curve_2_5_21['PRICE'] - yield_curve_2_5_21['PREDICTED PRICE'])[6:].mean()"
   ]
  },
  {
   "cell_type": "markdown",
   "metadata": {},
   "source": [
    "# VASICEK - SWAP"
   ]
  },
  {
   "cell_type": "code",
   "execution_count": 141,
   "metadata": {},
   "outputs": [],
   "source": [
    "xls = pd.ExcelFile('../data/treasury_swap_feb05.xlsx')\n",
    "swap_rates = pd.read_excel(xls, 'Sheet1')[1:]\n",
    "swap_rates.index = swap_rates['Term']"
   ]
  },
  {
   "cell_type": "code",
   "execution_count": 142,
   "metadata": {},
   "outputs": [],
   "source": [
    "swap_rates['Mid'] = swap_rates['Mid']/100"
   ]
  },
  {
   "cell_type": "code",
   "execution_count": 143,
   "metadata": {},
   "outputs": [],
   "source": [
    "sr = np.empty(len(swap_rates))\n",
    "std = np.empty(len(swap_rates))\n",
    "\n",
    "i = 0\n",
    "for index, row in swap_rates.iterrows():\n",
    "    T = int(row['Term'].split(\" YR\")[0])\n",
    "    T = np.arange(T*2)/2\n",
    "    sr[i], std[i] = pricing.swap_rate(26, 0.001, 100, 2, T)\n",
    "    i = i + 1"
   ]
  },
  {
   "cell_type": "code",
   "execution_count": 144,
   "metadata": {},
   "outputs": [
    {
     "data": {
      "text/plain": [
       "<AxesSubplot:title={'center':'VASICEK - SWAP RATES'}, xlabel='Term'>"
      ]
     },
     "execution_count": 144,
     "metadata": {},
     "output_type": "execute_result"
    },
    {
     "data": {
      "image/png": "[encoded data removed]",
      "text/plain": [
       "<Figure size 432x288 with 1 Axes>"
      ]
     },
     "metadata": {
      "needs_background": "light"
     },
     "output_type": "display_data"
    }
   ],
   "source": [
    "swap_rates['SWAP RATE'] = swap_rates['Mid']\n",
    "swap_rates['PREDICTED SWAP RATE'] = sr\n",
    "swap_rates[['SWAP RATE', 'PREDICTED SWAP RATE']].plot(legend=True, title='VASICEK - SWAP RATES')"
   ]
  },
  {
   "cell_type": "code",
   "execution_count": 145,
   "metadata": {},
   "outputs": [
    {
     "data": {
      "text/plain": [
       "array([2.64734604e-06, 4.25412399e-05, 1.26348767e-04, 2.15516936e-04,\n",
       "       2.71352693e-04, 5.63843664e-04, 1.00064783e-03])"
      ]
     },
     "execution_count": 145,
     "metadata": {},
     "output_type": "execute_result"
    }
   ],
   "source": [
    "std"
   ]
  },
  {
   "cell_type": "code",
   "execution_count": 149,
   "metadata": {},
   "outputs": [
    {
     "data": {
      "text/plain": [
       "0.0013450356041445424"
      ]
     },
     "execution_count": 149,
     "metadata": {},
     "output_type": "execute_result"
    }
   ],
   "source": [
    "abs(swap_rates['SWAP RATE'] - swap_rates['PREDICTED SWAP RATE'])[:3].mean()"
   ]
  },
  {
   "cell_type": "code",
   "execution_count": 150,
   "metadata": {},
   "outputs": [
    {
     "data": {
      "text/plain": [
       "0.001578474703860751"
      ]
     },
     "execution_count": 150,
     "metadata": {},
     "output_type": "execute_result"
    }
   ],
   "source": [
    "abs(swap_rates['SWAP RATE'] - swap_rates['PREDICTED SWAP RATE'])[4:].mean()"
   ]
  },
  {
   "cell_type": "markdown",
   "metadata": {},
   "source": [
    "# JUMP VASICEK - SWAP"
   ]
  },
  {
   "cell_type": "code",
   "execution_count": 151,
   "metadata": {},
   "outputs": [],
   "source": [
    "sr = np.empty(len(swap_rates))\n",
    "std = np.empty(len(swap_rates))\n",
    "\n",
    "i = 0\n",
    "for index, row in swap_rates.iterrows():\n",
    "    T = int(row['Term'].split(\" YR\")[0])\n",
    "    T = np.arange(T*2)/2\n",
    "    sr[i], std[i] = jump_pricing.swap_rate(26, 0.001, 100, 2, T)\n",
    "    i = i + 1"
   ]
  },
  {
   "cell_type": "code",
   "execution_count": 152,
   "metadata": {},
   "outputs": [
    {
     "data": {
      "text/plain": [
       "<AxesSubplot:title={'center':'JUMP VASICEK - SWAP RATES'}, xlabel='Term'>"
      ]
     },
     "execution_count": 152,
     "metadata": {},
     "output_type": "execute_result"
    },
    {
     "data": {
      "image/png": "[encoded data removed]",
      "text/plain": [
       "<Figure size 432x288 with 1 Axes>"
      ]
     },
     "metadata": {
      "needs_background": "light"
     },
     "output_type": "display_data"
    }
   ],
   "source": [
    "swap_rates['SWAP RATE'] = swap_rates['Mid']\n",
    "swap_rates['PREDICTED SWAP RATE'] = sr\n",
    "swap_rates[['SWAP RATE', 'PREDICTED SWAP RATE']].plot(legend=True, title='JUMP VASICEK - SWAP RATES')"
   ]
  },
  {
   "cell_type": "code",
   "execution_count": 153,
   "metadata": {},
   "outputs": [
    {
     "data": {
      "text/plain": [
       "array([5.95737773e-05, 5.01975815e-04, 1.40633560e-03, 1.98013784e-03,\n",
       "       2.94187962e-03, 4.52947277e-03, 4.68554399e-03])"
      ]
     },
     "execution_count": 153,
     "metadata": {},
     "output_type": "execute_result"
    }
   ],
   "source": [
    "std"
   ]
  },
  {
   "cell_type": "code",
   "execution_count": 155,
   "metadata": {},
   "outputs": [
    {
     "data": {
      "text/plain": [
       "0.0030201989367182563"
      ]
     },
     "execution_count": 155,
     "metadata": {},
     "output_type": "execute_result"
    }
   ],
   "source": [
    "abs(swap_rates['SWAP RATE'] - swap_rates['PREDICTED SWAP RATE'])[:3].mean()"
   ]
  },
  {
   "cell_type": "code",
   "execution_count": 156,
   "metadata": {},
   "outputs": [
    {
     "data": {
      "text/plain": [
       "0.005321040074476982"
      ]
     },
     "execution_count": 156,
     "metadata": {},
     "output_type": "execute_result"
    }
   ],
   "source": [
    "abs(swap_rates['SWAP RATE'] - swap_rates['PREDICTED SWAP RATE'])[4:].mean()"
   ]
  },
  {
   "cell_type": "markdown",
   "metadata": {},
   "source": [
    "# CIR - BOND"
   ]
  },
  {
   "cell_type": "code",
   "execution_count": 157,
   "metadata": {},
   "outputs": [],
   "source": [
    "fitted_params = {\n",
    "    \"kappa\": 0.07667018,\n",
    "    \"mu_r\": 0.04420769,\n",
    "    \"sigma\": 0.11789453,\n",
    "    \"mu\": 0,\n",
    "    \"gamma\": 0.01,\n",
    "    \"h\": 10\n",
    "}"
   ]
  },
  {
   "cell_type": "code",
   "execution_count": 158,
   "metadata": {},
   "outputs": [],
   "source": [
    "cir = CIR(fitted_params)\n",
    "pricing_cir = Pricing(cir)"
   ]
  },
  {
   "cell_type": "code",
   "execution_count": 159,
   "metadata": {},
   "outputs": [],
   "source": [
    "prices = np.empty(len(yield_curve_2_5_21))\n",
    "std = np.empty(len(yield_curve_2_5_21))\n",
    "\n",
    "i = 0\n",
    "for t in yield_curve_2_5_21['YEARS'].values:\n",
    "    prices[i], std[i] = pricing_cir.bond_price(26, 0.001, 100, t)\n",
    "    i = i+1"
   ]
  },
  {
   "cell_type": "code",
   "execution_count": 160,
   "metadata": {},
   "outputs": [
    {
     "data": {
      "text/plain": [
       "<AxesSubplot:title={'center':'CIR - BOND PRICES'}, xlabel='DATE'>"
      ]
     },
     "execution_count": 160,
     "metadata": {},
     "output_type": "execute_result"
    },
    {
     "data": {
      "image/png": "[encoded data removed]",
      "text/plain": [
       "<Figure size 432x288 with 1 Axes>"
      ]
     },
     "metadata": {
      "needs_background": "light"
     },
     "output_type": "display_data"
    }
   ],
   "source": [
    "yield_curve_2_5_21['PREDICTED PRICE'] = prices\n",
    "yield_curve_2_5_21[['PRICE', 'PREDICTED PRICE']].plot(legend=True, title='CIR - BOND PRICES')\n"
   ]
  },
  {
   "cell_type": "code",
   "execution_count": 161,
   "metadata": {},
   "outputs": [
    {
     "data": {
      "text/plain": [
       "array([2.37036559e-05, 5.43025203e-05, 1.13209040e-04, 3.39559656e-04,\n",
       "       1.10932992e-03, 4.46448756e-03, 9.35390052e-03, 2.47070219e-02,\n",
       "       3.30318878e-02, 5.99453866e-02, 1.04606956e-01, 1.19237319e-01])"
      ]
     },
     "execution_count": 161,
     "metadata": {},
     "output_type": "execute_result"
    }
   ],
   "source": [
    "std"
   ]
  },
  {
   "cell_type": "code",
   "execution_count": 163,
   "metadata": {},
   "outputs": [
    {
     "data": {
      "text/plain": [
       "0.0007269204621021874"
      ]
     },
     "execution_count": 163,
     "metadata": {},
     "output_type": "execute_result"
    }
   ],
   "source": [
    "abs(yield_curve_2_5_21['PRICE'] - yield_curve_2_5_21['PREDICTED PRICE'])[:5].mean()"
   ]
  },
  {
   "cell_type": "code",
   "execution_count": 164,
   "metadata": {},
   "outputs": [
    {
     "data": {
      "text/plain": [
       "0.011892039343525266"
      ]
     },
     "execution_count": 164,
     "metadata": {},
     "output_type": "execute_result"
    }
   ],
   "source": [
    "abs(yield_curve_2_5_21['PRICE'] - yield_curve_2_5_21['PREDICTED PRICE'])[6:].mean()"
   ]
  },
  {
   "cell_type": "markdown",
   "metadata": {},
   "source": [
    "# CIR - SWAP"
   ]
  },
  {
   "cell_type": "code",
   "execution_count": 165,
   "metadata": {},
   "outputs": [],
   "source": [
    "sr = np.empty(len(swap_rates))\n",
    "std = np.empty(len(swap_rates))\n",
    "\n",
    "i = 0\n",
    "for index, row in swap_rates.iterrows():\n",
    "    T = int(row['Term'].split(\" YR\")[0])\n",
    "    T = np.arange(T*2)/2\n",
    "    sr[i], std[i] = pricing_cir.swap_rate(26, 0.001, 100, 2, T)\n",
    "    i = i + 1"
   ]
  },
  {
   "cell_type": "code",
   "execution_count": 166,
   "metadata": {},
   "outputs": [
    {
     "data": {
      "text/plain": [
       "<AxesSubplot:title={'center':'CIR - SWAP RATES'}, xlabel='Term'>"
      ]
     },
     "execution_count": 166,
     "metadata": {},
     "output_type": "execute_result"
    },
    {
     "data": {
      "image/png": "[encoded data removed]",
      "text/plain": [
       "<Figure size 432x288 with 1 Axes>"
      ]
     },
     "metadata": {
      "needs_background": "light"
     },
     "output_type": "display_data"
    }
   ],
   "source": [
    "swap_rates['SWAP RATE'] = swap_rates['Mid']\n",
    "swap_rates['PREDICTED SWAP RATE'] = sr\n",
    "swap_rates[['SWAP RATE', 'PREDICTED SWAP RATE']].plot(legend=True, title='CIR - SWAP RATES')"
   ]
  },
  {
   "cell_type": "code",
   "execution_count": 167,
   "metadata": {},
   "outputs": [
    {
     "data": {
      "text/plain": [
       "array([0.00030548, 0.00110275, 0.00222579, 0.00323816, 0.00317243,\n",
       "       0.00417333, 0.00573109])"
      ]
     },
     "execution_count": 167,
     "metadata": {},
     "output_type": "execute_result"
    }
   ],
   "source": [
    "std"
   ]
  },
  {
   "cell_type": "code",
   "execution_count": 169,
   "metadata": {},
   "outputs": [
    {
     "data": {
      "text/plain": [
       "0.0014151792250699138"
      ]
     },
     "execution_count": 169,
     "metadata": {},
     "output_type": "execute_result"
    }
   ],
   "source": [
    "abs(swap_rates['SWAP RATE'] - swap_rates['PREDICTED SWAP RATE'])[:3].mean()"
   ]
  },
  {
   "cell_type": "code",
   "execution_count": 170,
   "metadata": {},
   "outputs": [
    {
     "data": {
      "text/plain": [
       "0.0020158020212531886"
      ]
     },
     "execution_count": 170,
     "metadata": {},
     "output_type": "execute_result"
    }
   ],
   "source": [
    "abs(swap_rates['SWAP RATE'] - swap_rates['PREDICTED SWAP RATE'])[4:].mean()"
   ]
  },
  {
   "cell_type": "markdown",
   "metadata": {},
   "source": [
    "# JUMP CIR - BOND"
   ]
  },
  {
   "cell_type": "code",
   "execution_count": 185,
   "metadata": {},
   "outputs": [],
   "source": [
    "fitted_params = {\n",
    "    \"kappa\": 0.00329184,\n",
    "    \"mu_r\": 0.001,\n",
    "    \"sigma\": 0.04480743,\n",
    "    \"mu\": 0,\n",
    "    \"gamma\": 0.11385074,\n",
    "    \"h\": 10\n",
    "}\n"
   ]
  },
  {
   "cell_type": "code",
   "execution_count": 186,
   "metadata": {},
   "outputs": [],
   "source": [
    "jump_cir = JumpCIR(fitted_params)\n",
    "pricing_jump_cir = Pricing(jump_cir)"
   ]
  },
  {
   "cell_type": "code",
   "execution_count": 187,
   "metadata": {},
   "outputs": [],
   "source": [
    "prices = np.empty(len(yield_curve_2_5_21))\n",
    "std = np.empty(len(yield_curve_2_5_21))\n",
    "\n",
    "i = 0\n",
    "for t in yield_curve_2_5_21['YEARS'].values:\n",
    "    prices[i], std[i] = pricing_jump_cir.bond_price(26, 0.001, 100, t)\n",
    "    i = i+1"
   ]
  },
  {
   "cell_type": "code",
   "execution_count": 188,
   "metadata": {},
   "outputs": [
    {
     "data": {
      "text/plain": [
       "<AxesSubplot:title={'center':'JUMP CIR - BOND PRICES'}, xlabel='DATE'>"
      ]
     },
     "execution_count": 188,
     "metadata": {},
     "output_type": "execute_result"
    },
    {
     "data": {
      "image/png": "[encoded data removed]",
      "text/plain": [
       "<Figure size 432x288 with 1 Axes>"
      ]
     },
     "metadata": {
      "needs_background": "light"
     },
     "output_type": "display_data"
    }
   ],
   "source": [
    "yield_curve_2_5_21['PREDICTED PRICE'] = prices\n",
    "yield_curve_2_5_21[['PRICE', 'PREDICTED PRICE']].plot(legend=True, title='JUMP CIR - BOND PRICES')"
   ]
  },
  {
   "cell_type": "code",
   "execution_count": 189,
   "metadata": {},
   "outputs": [
    {
     "data": {
      "text/plain": [
       "array([3.92560701e-06, 1.20809243e-05, 2.29586381e-05, 7.27874748e-05,\n",
       "       2.86620655e-04, 1.09720569e-03, 1.91272138e-03, 4.55802737e-03,\n",
       "       8.47201392e-03, 1.03336554e-02, 2.64081747e-02, 6.03943377e-02])"
      ]
     },
     "execution_count": 189,
     "metadata": {},
     "output_type": "execute_result"
    }
   ],
   "source": [
    "std"
   ]
  },
  {
   "cell_type": "code",
   "execution_count": 190,
   "metadata": {},
   "outputs": [
    {
     "data": {
      "text/plain": [
       "0.000290279705423413"
      ]
     },
     "execution_count": 190,
     "metadata": {},
     "output_type": "execute_result"
    }
   ],
   "source": [
    "abs(yield_curve_2_5_21['PRICE'] - yield_curve_2_5_21['PREDICTED PRICE'])[:5].mean()"
   ]
  },
  {
   "cell_type": "code",
   "execution_count": 191,
   "metadata": {},
   "outputs": [
    {
     "data": {
      "text/plain": [
       "0.14752849592899978"
      ]
     },
     "execution_count": 191,
     "metadata": {},
     "output_type": "execute_result"
    }
   ],
   "source": [
    "abs(yield_curve_2_5_21['PRICE'] - yield_curve_2_5_21['PREDICTED PRICE'])[6:].mean()"
   ]
  },
  {
   "cell_type": "code",
   "execution_count": 192,
   "metadata": {},
   "outputs": [
    {
     "data": {
      "text/plain": [
       "0.07389035254208112"
      ]
     },
     "execution_count": 192,
     "metadata": {},
     "output_type": "execute_result"
    }
   ],
   "source": [
    "abs(yield_curve_2_5_21['PRICE'] - yield_curve_2_5_21['PREDICTED PRICE']).mean()"
   ]
  },
  {
   "cell_type": "code",
   "execution_count": 199,
   "metadata": {},
   "outputs": [
    {
     "data": {
      "text/plain": [
       "DATE\n",
       "1M     0.000146\n",
       "2M     0.000192\n",
       "3M     0.000259\n",
       "6M     0.000313\n",
       "1Y     0.000542\n",
       "2Y     0.000062\n",
       "3Y     0.002274\n",
       "5Y     0.017876\n",
       "7Y     0.048792\n",
       "10Y    0.102141\n",
       "20Y    0.285490\n",
       "30Y    0.428598\n",
       "dtype: float64"
      ]
     },
     "execution_count": 199,
     "metadata": {},
     "output_type": "execute_result"
    }
   ],
   "source": [
    "abs(yield_curve_2_5_21['PRICE'] - yield_curve_2_5_21['PREDICTED PRICE'])"
   ]
  },
  {
   "cell_type": "markdown",
   "metadata": {},
   "source": [
    "# JUMP CIR - SWAP"
   ]
  },
  {
   "cell_type": "code",
   "execution_count": 193,
   "metadata": {},
   "outputs": [],
   "source": [
    "sr = np.empty(len(swap_rates))\n",
    "std = np.empty(len(swap_rates))\n",
    "\n",
    "i = 0\n",
    "for index, row in swap_rates.iterrows():\n",
    "    T = int(row['Term'].split(\" YR\")[0])\n",
    "    T = np.arange(T*2)/2\n",
    "    sr[i], std[i] = pricing_jump_cir.swap_rate(26, 0.001, 100, 2, T)\n",
    "    i = i + 1"
   ]
  },
  {
   "cell_type": "code",
   "execution_count": 203,
   "metadata": {},
   "outputs": [
    {
     "data": {
      "text/plain": [
       "<AxesSubplot:title={'center':'JUMP CIR - SWAP RATES'}, xlabel='Term'>"
      ]
     },
     "execution_count": 203,
     "metadata": {},
     "output_type": "execute_result"
    },
    {
     "data": {
      "image/png": "[encoded data removed]",
      "text/plain": [
       "<Figure size 432x288 with 1 Axes>"
      ]
     },
     "metadata": {
      "needs_background": "light"
     },
     "output_type": "display_data"
    }
   ],
   "source": [
    "swap_rates['SWAP RATE'] = swap_rates['Mid']\n",
    "swap_rates['PREDICTED SWAP RATE'] = sr\n",
    "swap_rates[['SWAP RATE', 'PREDICTED SWAP RATE']].plot(legend=True, title='JUMP CIR - SWAP RATES')"
   ]
  },
  {
   "cell_type": "code",
   "execution_count": 195,
   "metadata": {},
   "outputs": [
    {
     "data": {
      "text/plain": [
       "array([8.25200589e-05, 2.74714628e-04, 5.25625294e-04, 6.11615439e-04,\n",
       "       9.35201790e-04, 7.36196881e-04, 1.63808328e-03])"
      ]
     },
     "execution_count": 195,
     "metadata": {},
     "output_type": "execute_result"
    }
   ],
   "source": [
    "std"
   ]
  },
  {
   "cell_type": "code",
   "execution_count": 198,
   "metadata": {},
   "outputs": [
    {
     "data": {
      "text/plain": [
       "Term\n",
       "1 YR     0.000590\n",
       "2 YR     0.000309\n",
       "3 YR     0.000648\n",
       "4 YR     0.001904\n",
       "5 YR     0.003049\n",
       "7 YR     0.006307\n",
       "10 YR    0.009379\n",
       "dtype: float64"
      ]
     },
     "execution_count": 198,
     "metadata": {},
     "output_type": "execute_result"
    }
   ],
   "source": [
    "abs(swap_rates['SWAP RATE'] - swap_rates['PREDICTED SWAP RATE'])"
   ]
  },
  {
   "cell_type": "code",
   "execution_count": 200,
   "metadata": {},
   "outputs": [
    {
     "data": {
      "text/plain": [
       "0.0005153848058978508"
      ]
     },
     "execution_count": 200,
     "metadata": {},
     "output_type": "execute_result"
    }
   ],
   "source": [
    "abs(swap_rates['SWAP RATE'] - swap_rates['PREDICTED SWAP RATE'])[:3].mean()"
   ]
  },
  {
   "cell_type": "code",
   "execution_count": 201,
   "metadata": {},
   "outputs": [
    {
     "data": {
      "text/plain": [
       "0.006244972527883451"
      ]
     },
     "execution_count": 201,
     "metadata": {},
     "output_type": "execute_result"
    }
   ],
   "source": [
    "abs(swap_rates['SWAP RATE'] - swap_rates['PREDICTED SWAP RATE'])[4:].mean()"
   ]
  },
  {
   "cell_type": "code",
   "execution_count": 202,
   "metadata": {},
   "outputs": [
    {
     "data": {
      "text/plain": [
       "0.003169307474858933"
      ]
     },
     "execution_count": 202,
     "metadata": {},
     "output_type": "execute_result"
    }
   ],
   "source": [
    "abs(swap_rates['SWAP RATE'] - swap_rates['PREDICTED SWAP RATE']).mean()"
   ]
  },
  {
   "cell_type": "code",
   "execution_count": null,
   "metadata": {},
   "outputs": [],
   "source": []
  }
 ],
 "metadata": {
  "kernelspec": {
   "display_name": "Python 3",
   "language": "python",
   "name": "python3"
  },
  "language_info": {
   "codemirror_mode": {
    "name": "ipython",
    "version": 3
   },
   "file_extension": ".py",
   "mimetype": "text/x-python",
   "name": "python",
   "nbconvert_exporter": "python",
   "pygments_lexer": "ipython3",
   "version": "3.8.3"
  }
 },
 "nbformat": 4,
 "nbformat_minor": 4
}
