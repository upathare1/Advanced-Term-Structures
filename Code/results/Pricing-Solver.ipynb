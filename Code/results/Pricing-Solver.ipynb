{
 "cells": [
  {
   "cell_type": "code",
   "execution_count": 1,
   "metadata": {},
   "outputs": [],
   "source": [
    "import sys; sys.path.insert(0, '..') # necessary for successful custom module imports\n",
    "import numpy as np\n",
    "import pandas as pd\n",
    "import matplotlib.pyplot as plt\n",
    "from models.jump_vasicek import JumpVasicek\n",
    "from models.vasicek import Vasicek\n",
    "from pricing.pricing import Pricing\n",
    "import warnings\n",
    "warnings.filterwarnings(\"ignore\")"
   ]
  },
  {
   "cell_type": "code",
   "execution_count": 2,
   "metadata": {},
   "outputs": [],
   "source": [
    "fitted_params = {\n",
    "    \"kappa\": 0.09379583,\n",
    "    \"mu_r\": 0.03578758,\n",
    "    \"sigma\": 0.01,\n",
    "    \"mu\": 0,\n",
    "    \"gamma\": 0.01,\n",
    "    \"h\": 10\n",
    "}"
   ]
  },
  {
   "cell_type": "code",
   "execution_count": 3,
   "metadata": {},
   "outputs": [],
   "source": [
    "xls = pd.ExcelFile('../data/yield_curve15022021.xlsx')\n",
    "yield_curve = pd.read_excel(xls, 'Sheet1')\n",
    "yield_curve = yield_curve.set_index('Dates')"
   ]
  },
  {
   "cell_type": "code",
   "execution_count": 4,
   "metadata": {},
   "outputs": [],
   "source": [
    "yield_curve_2_5_21 = pd.DataFrame((yield_curve[yield_curve.index == '2/5/2021']).T.values/100)\n",
    "yield_curve_2_5_21['DATE'] = yield_curve.columns\n",
    "yield_curve_2_5_21.columns = ['YIELD','DATE']"
   ]
  },
  {
   "cell_type": "code",
   "execution_count": 5,
   "metadata": {},
   "outputs": [],
   "source": [
    "def convert_to_years(row):\n",
    "    if 'M' in row['DATE']:\n",
    "        return int(row['DATE'].split('M')[0])/12\n",
    "    elif 'Y' in row['DATE']:\n",
    "        return int(row['DATE'].split('Y')[0])\n",
    "    \n",
    "yield_curve_2_5_21['YEARS'] = yield_curve_2_5_21.apply(convert_to_years, axis=1)"
   ]
  },
  {
   "cell_type": "code",
   "execution_count": 6,
   "metadata": {},
   "outputs": [],
   "source": [
    "yield_curve_2_5_21['PRICE'] = np.exp(-yield_curve_2_5_21['YEARS']*yield_curve_2_5_21['YIELD'])\n",
    "yield_curve_2_5_21 = yield_curve_2_5_21.set_index('DATE')"
   ]
  },
  {
   "cell_type": "code",
   "execution_count": 7,
   "metadata": {},
   "outputs": [],
   "source": [
    "vasicek = Vasicek(fitted_params)\n",
    "pricing = Pricing(vasicek)"
   ]
  },
  {
   "cell_type": "code",
   "execution_count": 8,
   "metadata": {},
   "outputs": [],
   "source": [
    "prices = np.empty(len(yield_curve_2_5_21))\n",
    "std = np.empty(len(yield_curve_2_5_21))\n",
    "\n",
    "i = 0\n",
    "for t in yield_curve_2_5_21['YEARS'].values:\n",
    "    prices[i] = pricing.bond_price(26, 0.001, 100, t)\n",
    "    i = i+1"
   ]
  },
  {
   "cell_type": "code",
   "execution_count": 9,
   "metadata": {},
   "outputs": [
    {
     "data": {
      "text/plain": [
       "<AxesSubplot:xlabel='DATE'>"
      ]
     },
     "execution_count": 9,
     "metadata": {},
     "output_type": "execute_result"
    },
    {
     "data": {
      "image/png": "[encoded data removed]",
      "text/plain": [
       "<Figure size 432x288 with 1 Axes>"
      ]
     },
     "metadata": {
      "needs_background": "light"
     },
     "output_type": "display_data"
    }
   ],
   "source": [
    "plt.plot(prices)\n",
    "yield_curve_2_5_21['PRICE'].plot()"
   ]
  },
  {
   "cell_type": "code",
   "execution_count": 10,
   "metadata": {},
   "outputs": [],
   "source": [
    "fitted_params = {\n",
    "    \"kappa\": 0.27190529,\n",
    "    \"mu_r\": 0.03017723,\n",
    "    \"sigma\": 0.01,\n",
    "    \"mu\": 0,\n",
    "    \"gamma\": 0.01,\n",
    "    \"h\": 10\n",
    "}"
   ]
  },
  {
   "cell_type": "code",
   "execution_count": 11,
   "metadata": {},
   "outputs": [],
   "source": [
    "jump_vasicek = JumpVasicek(fitted_params)\n",
    "jump_pricing = Pricing(jump_vasicek)"
   ]
  },
  {
   "cell_type": "code",
   "execution_count": 12,
   "metadata": {},
   "outputs": [],
   "source": [
    "prices = np.empty(len(yield_curve_2_5_21))\n",
    "std = np.empty(len(yield_curve_2_5_21))\n",
    "\n",
    "i = 0\n",
    "for t in yield_curve_2_5_21['YEARS'].values:\n",
    "    prices[i] = jump_pricing.bond_price(26, 0.001, 100, t)\n",
    "    i = i+1"
   ]
  },
  {
   "cell_type": "code",
   "execution_count": 13,
   "metadata": {},
   "outputs": [
    {
     "data": {
      "text/plain": [
       "<AxesSubplot:xlabel='DATE'>"
      ]
     },
     "execution_count": 13,
     "metadata": {},
     "output_type": "execute_result"
    },
    {
     "data": {
      "image/png": "[encoded data removed]",
      "text/plain": [
       "<Figure size 432x288 with 1 Axes>"
      ]
     },
     "metadata": {
      "needs_background": "light"
     },
     "output_type": "display_data"
    }
   ],
   "source": [
    "plt.plot(prices)\n",
    "yield_curve_2_5_21['PRICE'].plot()"
   ]
  },
  {
   "cell_type": "code",
   "execution_count": 14,
   "metadata": {},
   "outputs": [
    {
     "data": {
      "text/plain": [
       "0.006606866520851697"
      ]
     },
     "execution_count": 14,
     "metadata": {},
     "output_type": "execute_result"
    }
   ],
   "source": [
    "jump_pricing.swap_rate(26, 0.001, 100, 2, [0.5, 1])"
   ]
  },
  {
   "cell_type": "code",
   "execution_count": null,
   "metadata": {},
   "outputs": [],
   "source": []
  }
 ],
 "metadata": {
  "kernelspec": {
   "display_name": "Python 3",
   "language": "python",
   "name": "python3"
  },
  "language_info": {
   "codemirror_mode": {
    "name": "ipython",
    "version": 3
   },
   "file_extension": ".py",
   "mimetype": "text/x-python",
   "name": "python",
   "nbconvert_exporter": "python",
   "pygments_lexer": "ipython3",
   "version": "3.8.3"
  }
 },
 "nbformat": 4,
 "nbformat_minor": 4
}
