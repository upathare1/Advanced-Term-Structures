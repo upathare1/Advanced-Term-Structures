{
 "cells": [
  {
   "cell_type": "code",
   "execution_count": 174,
   "metadata": {},
   "outputs": [],
   "source": [
    "import numpy as np\n",
    "import pandas as pd\n",
    "import matplotlib.pyplot as plt"
   ]
  },
  {
   "cell_type": "code",
   "execution_count": 175,
   "metadata": {},
   "outputs": [],
   "source": [
    "class JumpVasicek:\n",
    "    \"\"\"Vasicek Model with jumps\"\"\"\n",
    "    def __init__(self, model_params: dict):\n",
    "        self.model_params = model_params\n",
    "    def increment(self, rj: float, dt: float, nj=None, Pj=None, Jj=None):\n",
    "        \"\"\"\n",
    "        Calculates next interest rate step\n",
    "        \"\"\"\n",
    "        if nj is None or Pj is None or Jj is None:\n",
    "            nj = np.random.normal()\n",
    "            Pj = np.random.poisson(model_params[\"h\"]*dt)\n",
    "            Jj = np.random.normal(model_params[\"mu\"], model_params[\"gamma\"])\n",
    "        time_step = self.model_params[\"kappa\"]*(self.model_params[\"mu_r\"] - rj)*dt\n",
    "        stoch_step = self.model_params[\"sigma\"]*np.sqrt(dt)*nj\n",
    "        jump_step = Jj*Pj\n",
    "        return rj + time_step + stoch_step + jump_step, nj, Pj, Jj"
   ]
  },
  {
   "cell_type": "code",
   "execution_count": 176,
   "metadata": {},
   "outputs": [],
   "source": [
    "class Vasicek:\n",
    "    \"\"\"Canonical Vasicek Model\"\"\"\n",
    "    def __init__(self, model_params: dict):\n",
    "        self.model_params = model_params\n",
    "    def increment(self, rj, dt, nj=None, Pj=None, Jj=None):\n",
    "        if nj is None:\n",
    "            nj = np.random.normal()\n",
    "            Pj = np.random.poisson(model_params[\"h\"]*dt)\n",
    "            Jj = np.random.normal(model_params[\"mu\"], model_params[\"gamma\"])\n",
    "        time_step = self.model_params[\"kappa\"]*(self.model_params[\"mu_r\"] - rj)*dt\n",
    "        stoch_step = self.model_params[\"sigma\"]*np.sqrt(dt)*nj\n",
    "        return rj + time_step + stoch_step, nj, Pj, Jj\n",
    "    def exact(self, r0, T):\n",
    "        \"\"\"\n",
    "        Returns exact price rate for maturity T\n",
    "        \"\"\"\n",
    "        K = self.model_params[\"kappa\"]\n",
    "        u_hat = self.model_params[\"mu_r\"]\n",
    "        B = (1 - np.exp(-K*(T)))/K\n",
    "        A = (B - (T))*(u_hat - self.model_params[\"sigma\"]**2/(2*K*K)) - (self.model_params[\"sigma\"]**2)*(B**2)/(4*K)\n",
    "        return np.exp(A - B*r0)"
   ]
  },
  {
   "cell_type": "code",
   "execution_count": 177,
   "metadata": {},
   "outputs": [],
   "source": [
    "class MonteCarlo:\n",
    "    def __init__(self, model):\n",
    "        self.model = model\n",
    "    def _generate_path(self, r0, T: float, m: int, n=None, P=None, J=None):\n",
    "        \"\"\"\n",
    "        r0, float: i-rate today\n",
    "        T, float: Maturity date (in years)\n",
    "        m, int: time steps per year,\n",
    "        n, 1x(T*m) np.array, array of draws,\n",
    "        \"\"\"\n",
    "        dt = 1/m\n",
    "        num_steps = int(np.ceil(T/dt))\n",
    "        r = np.empty(num_steps + 1)\n",
    "        none = False\n",
    "        if n is None:\n",
    "            n = np.empty(num_steps)\n",
    "            P = np.empty(num_steps)\n",
    "            J = np.empty(num_steps)\n",
    "            none = True\n",
    "        r[0] = r0\n",
    "        for j in range(num_steps):\n",
    "            r[j+1], n[j], P[j], J[j] = self.model.increment(rj=r[j], dt=dt, \n",
    "                                                nj=-n[j] if not none else None,\n",
    "                                                Pj=P[j] if not none else None,\n",
    "                                                Jj=-J[j] if not none else None,\n",
    "                                                )\n",
    "        return r, n, P, J\n",
    "    def _evaluate_price(self, r: np.array, m: int):\n",
    "        \"\"\"\n",
    "        r, 1xk np.array: i-rate path,\n",
    "        m, int: time steps per year\n",
    "        \"\"\"\n",
    "        dt = 1/m\n",
    "        return np.exp(-np.sum(np.multiply(r, dt)))\n",
    "    def _simulate_paths(self, m: int, r0: float, n: int, T: float):\n",
    "        \"\"\"\n",
    "        m, int: time steps per year\n",
    "        r0, float: i-rate today\n",
    "        n, int: number of simulations\n",
    "        T, float: Maturity date (in years)\n",
    "        \"\"\"\n",
    "        prices = np.empty(n)\n",
    "        for i in range(n):\n",
    "            r, _, __, ___ = self._generate_path(r0, T, m)\n",
    "            prices[i] = self._evaluate_price(r, m)\n",
    "        return np.mean(prices), np.std(prices)\n",
    "    def _simulate_paths_anti(self, m: int, r0: float, n: int, T: float):\n",
    "        \"\"\"\n",
    "        m, int: time steps per year\n",
    "        r0, float: i-rate today\n",
    "        n, int: number of simulations\n",
    "        T, float: Maturity date (in years)\n",
    "        \"\"\"\n",
    "        prices = np.empty(n)\n",
    "        for i in range(n):\n",
    "            r1, n, P, J = self._generate_path(r0, T, m)\n",
    "            r2, _, __, ___ = self._generate_path(r0, T, m, n, P, J)\n",
    "            prices[i] = 0.5*(self._evaluate_price(r1, m) + self._evaluate_price(r2, m))\n",
    "        return np.mean(prices), np.std(prices)"
   ]
  },
  {
   "cell_type": "code",
   "execution_count": 178,
   "metadata": {},
   "outputs": [],
   "source": [
    "model_params = {\n",
    "    \"kappa\": 0.5,\n",
    "    \"mu_r\": 0.06,\n",
    "    \"sigma\": 0.02,\n",
    "    \"mu\": 0,\n",
    "    \"gamma\": 0.01,\n",
    "    \"h\": 10\n",
    "}"
   ]
  },
  {
   "cell_type": "code",
   "execution_count": 179,
   "metadata": {},
   "outputs": [],
   "source": [
    "vasicek = Vasicek(model_params)\n",
    "mc_vasicek = MonteCarlo(vasicek)"
   ]
  },
  {
   "cell_type": "code",
   "execution_count": 180,
   "metadata": {},
   "outputs": [
    {
     "data": {
      "text/plain": [
       "(0.8606140749100691, 0.0301751539292666)"
      ]
     },
     "execution_count": 180,
     "metadata": {},
     "output_type": "execute_result"
    }
   ],
   "source": [
    "mc_vasicek._simulate_paths(m=365, r0=0.04, n=1000, T=3)"
   ]
  },
  {
   "cell_type": "code",
   "execution_count": 181,
   "metadata": {},
   "outputs": [
    {
     "data": {
      "text/plain": [
       "(0.8620573169970779, 0.00077763179139923)"
      ]
     },
     "execution_count": 181,
     "metadata": {},
     "output_type": "execute_result"
    }
   ],
   "source": [
    "mc_vasicek._simulate_paths_anti(m=365, r0=0.04, n=1000, T=3)"
   ]
  },
  {
   "cell_type": "code",
   "execution_count": 182,
   "metadata": {},
   "outputs": [
    {
     "data": {
      "text/plain": [
       "0.8622146550422263"
      ]
     },
     "execution_count": 182,
     "metadata": {},
     "output_type": "execute_result"
    }
   ],
   "source": [
    "vasicek.exact(r0=0.04, T=3)"
   ]
  },
  {
   "cell_type": "code",
   "execution_count": 183,
   "metadata": {},
   "outputs": [],
   "source": [
    "jump_vasicek = JumpVasicek(model_params)\n",
    "mc_jump_vasicek = MonteCarlo(jump_vasicek)"
   ]
  },
  {
   "cell_type": "code",
   "execution_count": 184,
   "metadata": {},
   "outputs": [
    {
     "data": {
      "text/plain": [
       "(0.8643673368088876, 0.06087874500953521)"
      ]
     },
     "execution_count": 184,
     "metadata": {},
     "output_type": "execute_result"
    }
   ],
   "source": [
    "mc_jump_vasicek._simulate_paths(m=365, r0=0.04, n=1000, T=3)"
   ]
  },
  {
   "cell_type": "code",
   "execution_count": 185,
   "metadata": {},
   "outputs": [
    {
     "data": {
      "text/plain": [
       "(0.8635177916514604, 0.002944436636085731)"
      ]
     },
     "execution_count": 185,
     "metadata": {},
     "output_type": "execute_result"
    }
   ],
   "source": [
    "mc_jump_vasicek._simulate_paths_anti(m=365, r0=0.04, n=1000, T=3)"
   ]
  },
  {
   "cell_type": "code",
   "execution_count": null,
   "metadata": {},
   "outputs": [],
   "source": []
  }
 ],
 "metadata": {
  "kernelspec": {
   "display_name": "Python 3",
   "language": "python",
   "name": "python3"
  },
  "language_info": {
   "codemirror_mode": {
    "name": "ipython",
    "version": 3
   },
   "file_extension": ".py",
   "mimetype": "text/x-python",
   "name": "python",
   "nbconvert_exporter": "python",
   "pygments_lexer": "ipython3",
   "version": "3.8.2"
  }
 },
 "nbformat": 4,
 "nbformat_minor": 4
}
