{
 "cells": [
  {
   "cell_type": "code",
   "execution_count": 1,
   "metadata": {},
   "outputs": [],
   "source": [
    "import numpy as np\n",
    "import pandas as pd\n",
    "import matplotlib.pyplot as plt\n",
    "from scipy.optimize import Bounds\n",
    "from calibration.solver_calibration import Calibration\n",
    "\n",
    "from models.vasicek import Vasicek\n",
    "from models.cir import CIR"
   ]
  },
  {
   "cell_type": "code",
   "execution_count": 2,
   "metadata": {},
   "outputs": [],
   "source": [
    "inital_model_params = {\n",
    "    \"kappa\": 0.5,\n",
    "    \"mu_r\": 0.03,\n",
    "    \"sigma\": 0.03,\n",
    "    \"mu\": 0,\n",
    "    \"gamma\": 0.01,\n",
    "    \"h\": 10\n",
    "}"
   ]
  },
  {
   "cell_type": "code",
   "execution_count": 3,
   "metadata": {},
   "outputs": [],
   "source": [
    "yield_curve_full = pd.read_csv(\"data/yield_curve02132021.csv\")\n",
    "yield_curve = pd.DataFrame(yield_curve_full.iloc[0, 1:]/100).astype(float)\n",
    "yield_curve[\"Maturity\"] = list(range(1, len(yield_curve) + 1))\n",
    "yield_curve.columns = [\"Yield\", \"Maturity\"]\n",
    "yield_curve[\"Cum. Yield\"] = yield_curve[\"Yield\"] * yield_curve[\"Maturity\"]\n",
    "yield_curve[\"Price\"] = np.exp(-yield_curve[\"Cum. Yield\"])"
   ]
  },
  {
   "cell_type": "code",
   "execution_count": 4,
   "metadata": {},
   "outputs": [],
   "source": [
    "prices = yield_curve[\"Price\"].values\n",
    "Ts = yield_curve[\"Maturity\"].values"
   ]
  },
  {
   "cell_type": "code",
   "execution_count": 5,
   "metadata": {},
   "outputs": [],
   "source": [
    "prices = prices.reshape((1, 30))"
   ]
  },
  {
   "cell_type": "code",
   "execution_count": 26,
   "metadata": {},
   "outputs": [],
   "source": [
    "vasicek = Vasicek(inital_model_params)\n",
    "optimize_args = (\"kappa\", \"mu_r\", \"sigma\")\n",
    "bounds = Bounds([0.001, 0.001, 0.01], [1, 0.2, 0.2])"
   ]
  },
  {
   "cell_type": "code",
   "execution_count": 27,
   "metadata": {},
   "outputs": [],
   "source": [
    "if __name__ == \"__main__\":\n",
    "    calibrator = Calibration(\n",
    "        model_class=Vasicek, n=100, m=26, r0=0.001,\n",
    "        model_params=inital_model_params, optimize_args=optimize_args)\n",
    "    optimal_vas = calibrator.calibrate(\n",
    "        initial_values=(inital_model_params[\"kappa\"], inital_model_params[\"mu_r\"], inital_model_params[\"sigma\"]),\n",
    "        Ts=Ts,\n",
    "        prices=prices,\n",
    "        bounds=bounds\n",
    "    )"
   ]
  },
  {
   "cell_type": "code",
   "execution_count": 28,
   "metadata": {},
   "outputs": [
    {
     "data": {
      "text/plain": [
       "      fun: 0.03581538717435763\n",
       " hess_inv: <3x3 LbfgsInvHessProduct with dtype=float64>\n",
       "      jac: array([-8.47932836e-06, -3.89625832e-05,  1.25352222e+00])\n",
       "  message: b'CONVERGENCE: REL_REDUCTION_OF_F_<=_FACTR*EPSMCH'\n",
       "     nfev: 216\n",
       "      nit: 34\n",
       "     njev: 54\n",
       "   status: 0\n",
       "  success: True\n",
       "        x: array([0.09379583, 0.03578758, 0.01      ])"
      ]
     },
     "execution_count": 28,
     "metadata": {},
     "output_type": "execute_result"
    }
   ],
   "source": [
    "optimal_vas"
   ]
  },
  {
   "cell_type": "code",
   "execution_count": 6,
   "metadata": {},
   "outputs": [],
   "source": [
    "cir = CIR(inital_model_params)\n",
    "optimize_args = (\"kappa\", \"mu_r\", \"sigma\")\n",
    "bounds = Bounds([0.001, 0.001, 0.01], [1, 0.2, 0.2])"
   ]
  },
  {
   "cell_type": "code",
   "execution_count": 7,
   "metadata": {},
   "outputs": [],
   "source": [
    "if __name__ == \"__main__\":\n",
    "    calibrator = Calibration(\n",
    "        model_class=CIR, n=100, m=26, r0=0.001,\n",
    "        model_params=inital_model_params, optimize_args=optimize_args)\n",
    "    optimal_cir = calibrator.calibrate(\n",
    "        initial_values=(inital_model_params[\"kappa\"], inital_model_params[\"mu_r\"], inital_model_params[\"sigma\"]),\n",
    "        Ts=Ts,\n",
    "        prices=prices,\n",
    "        bounds=bounds\n",
    "    )"
   ]
  },
  {
   "cell_type": "code",
   "execution_count": 8,
   "metadata": {
    "scrolled": true
   },
   "outputs": [
    {
     "data": {
      "text/plain": [
       "      fun: 0.05727216988360956\n",
       " hess_inv: <3x3 LbfgsInvHessProduct with dtype=float64>\n",
       "      jac: array([14.70943109, 17.70598098, 18.44034574])\n",
       "  message: b'CONVERGENCE: REL_REDUCTION_OF_F_<=_FACTR*EPSMCH'\n",
       "     nfev: 564\n",
       "      nit: 36\n",
       "     njev: 141\n",
       "   status: 0\n",
       "  success: True\n",
       "        x: array([0.07667018, 0.04420769, 0.11789453])"
      ]
     },
     "execution_count": 8,
     "metadata": {},
     "output_type": "execute_result"
    }
   ],
   "source": [
    "optimal_cir"
   ]
  },
  {
   "cell_type": "code",
   "execution_count": null,
   "metadata": {},
   "outputs": [],
   "source": []
  }
 ],
 "metadata": {
  "kernelspec": {
   "display_name": "Python 3",
   "language": "python",
   "name": "python3"
  },
  "language_info": {
   "codemirror_mode": {
    "name": "ipython",
    "version": 3
   },
   "file_extension": ".py",
   "mimetype": "text/x-python",
   "name": "python",
   "nbconvert_exporter": "python",
   "pygments_lexer": "ipython3",
   "version": "3.8.3"
  }
 },
 "nbformat": 4,
 "nbformat_minor": 4
}
